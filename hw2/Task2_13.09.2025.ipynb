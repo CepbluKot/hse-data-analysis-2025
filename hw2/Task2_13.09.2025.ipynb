{
 "cells": [
  {
   "cell_type": "markdown",
   "metadata": {},
   "source": [
    "# Task 2. Investigating Relationships (part 1)"
   ]
  },
  {
   "cell_type": "markdown",
   "metadata": {},
   "source": [
    "Analyze the data on Global AI Job Market & Salary Trends 2025.\n",
    "\n",
    "[Source](https://www.kaggle.com/datasets/bismasajjad/global-ai-job-market-and-salary-trends-2025)\n",
    "\n",
    "The file `ai_job_dataset.csv` contains the following variables:\n",
    "\n",
    "| Variable name | Variable description\n",
    "|:-------------------:|:------------------:|\n",
    "| job_id | Unique identifier for each job posting |\n",
    "| job_title | Standardized job title | \n",
    "| salary_usd | Annual salary in USD| \n",
    "| salary_currency | Original salary currency| \n",
    "| salary_local | Salary in local currency| \n",
    "| experience_level | EN (Entry), MI (Mid), SE (Senior), EX (Executive)| \n",
    "| employment_type |\tFT (Full-time), PT (Part-time), CT (Contract), FL (Freelance)| \n",
    "| company_location | Country where company is located| \t\n",
    "| company_size | S (Small <50), M (Medium 50-250), L (Large >250)| \n",
    "| employee_residence |\tCountry where employee resides|\n",
    "| remote_ratio | 0 (No remote), 50 (Hybrid), 100 (Fully remote)|\n",
    "| required_skills |\tTop 5 required skills (comma-separated)|\n",
    "| education_required |\tMinimum education requirement|\n",
    "| years_experience | Required years of experience|\n",
    "| industry | Industry sector of the company |\n",
    "| posting_date | Date when job was posted |\n",
    "| application_deadline | Application deadline |\n",
    "| job_description_length | Character count of job description |\n",
    "| benefits_score |\tNumerical score of benefits package (1-10) |"
   ]
  },
  {
   "cell_type": "markdown",
   "metadata": {},
   "source": [
    "Please complete the following tasks."
   ]
  },
  {
   "attachments": {},
   "cell_type": "markdown",
   "metadata": {},
   "source": [
    "1. For interval or ratio scale variables run suitable normality tests to check whether their distribution is close to the normal distribution. Formulate hypothesis. Create graphs to compare the variables’ distributions with the normal distribution. Make conclusions. "
   ]
  },
  {
   "cell_type": "code",
   "execution_count": 8,
   "metadata": {},
   "outputs": [],
   "source": [
    "# your code here\n",
    "\n",
    "import math\n",
    "import pandas as pd\n",
    "import numpy as np\n",
    "import seaborn as sns\n",
    "import matplotlib.pyplot as plt\n",
    "from scipy import stats\n",
    "import warnings\n",
    "\n",
    "\n",
    "df = pd.read_csv('ai_job_dataset.csv')\n",
    "\n",
    "# number of observations and variables, variables’ measurement scale\n",
    "df.describe()\n",
    "warnings.filterwarnings('ignore')\n"
   ]
  },
  {
   "cell_type": "code",
   "execution_count": 9,
   "metadata": {},
   "outputs": [
    {
     "data": {
      "application/vnd.microsoft.datawrangler.viewer.v0+json": {
       "columns": [
        {
         "name": "index",
         "rawType": "int64",
         "type": "integer"
        },
        {
         "name": "salary_usd",
         "rawType": "int64",
         "type": "integer"
        },
        {
         "name": "remote_ratio",
         "rawType": "int64",
         "type": "integer"
        },
        {
         "name": "years_experience",
         "rawType": "int64",
         "type": "integer"
        },
        {
         "name": "job_description_length",
         "rawType": "int64",
         "type": "integer"
        },
        {
         "name": "benefits_score",
         "rawType": "float64",
         "type": "float"
        }
       ],
       "ref": "e2384984-e4aa-40b8-b00d-90db4ff69e43",
       "rows": [
        [
         "0",
         "90376",
         "50",
         "9",
         "1076",
         "5.9"
        ],
        [
         "1",
         "61895",
         "100",
         "1",
         "1268",
         "5.2"
        ],
        [
         "2",
         "152626",
         "0",
         "2",
         "1974",
         "9.4"
        ],
        [
         "3",
         "80215",
         "50",
         "7",
         "1345",
         "8.6"
        ],
        [
         "4",
         "54624",
         "100",
         "0",
         "1989",
         "6.6"
        ],
        [
         "5",
         "123574",
         "50",
         "7",
         "819",
         "5.9"
        ],
        [
         "6",
         "79670",
         "0",
         "3",
         "1936",
         "6.3"
        ],
        [
         "7",
         "70640",
         "0",
         "0",
         "1286",
         "7.6"
        ],
        [
         "8",
         "160710",
         "0",
         "7",
         "551",
         "9.3"
        ],
        [
         "9",
         "102557",
         "0",
         "5",
         "2340",
         "5.8"
        ],
        [
         "10",
         "102322",
         "100",
         "8",
         "1047",
         "9.9"
        ],
        [
         "11",
         "115047",
         "0",
         "15",
         "513",
         "6.8"
        ],
        [
         "12",
         "124355",
         "100",
         "5",
         "760",
         "5.2"
        ],
        [
         "13",
         "68760",
         "0",
         "0",
         "1657",
         "9.1"
        ],
        [
         "14",
         "150122",
         "100",
         "6",
         "1466",
         "9.8"
        ],
        [
         "15",
         "78846",
         "0",
         "0",
         "2059",
         "9.6"
        ],
        [
         "16",
         "59823",
         "100",
         "1",
         "1200",
         "5.8"
        ],
        [
         "17",
         "181139",
         "100",
         "15",
         "2142",
         "8.7"
        ],
        [
         "18",
         "155300",
         "0",
         "9",
         "589",
         "8.6"
        ],
        [
         "19",
         "93851",
         "100",
         "4",
         "1809",
         "6.7"
        ],
        [
         "20",
         "134197",
         "0",
         "3",
         "969",
         "9.6"
        ],
        [
         "21",
         "102550",
         "0",
         "2",
         "625",
         "10.0"
        ],
        [
         "22",
         "99382",
         "0",
         "7",
         "1629",
         "6.9"
        ],
        [
         "23",
         "52167",
         "100",
         "4",
         "2298",
         "9.3"
        ],
        [
         "24",
         "53923",
         "0",
         "2",
         "1006",
         "7.4"
        ],
        [
         "25",
         "109779",
         "100",
         "6",
         "1146",
         "8.8"
        ],
        [
         "26",
         "80979",
         "50",
         "2",
         "2109",
         "7.7"
        ],
        [
         "27",
         "52997",
         "0",
         "2",
         "2101",
         "8.6"
        ],
        [
         "28",
         "42819",
         "50",
         "0",
         "2187",
         "8.6"
        ],
        [
         "29",
         "82083",
         "100",
         "2",
         "1212",
         "6.3"
        ],
        [
         "30",
         "67488",
         "100",
         "1",
         "887",
         "6.0"
        ],
        [
         "31",
         "68624",
         "0",
         "1",
         "1910",
         "9.2"
        ],
        [
         "32",
         "146852",
         "50",
         "7",
         "684",
         "5.3"
        ],
        [
         "33",
         "178183",
         "0",
         "16",
         "1850",
         "5.7"
        ],
        [
         "34",
         "150864",
         "0",
         "8",
         "1504",
         "7.9"
        ],
        [
         "35",
         "126942",
         "0",
         "10",
         "1261",
         "9.9"
        ],
        [
         "36",
         "53752",
         "100",
         "2",
         "998",
         "6.1"
        ],
        [
         "37",
         "111381",
         "0",
         "18",
         "1030",
         "8.1"
        ],
        [
         "38",
         "41430",
         "50",
         "1",
         "2323",
         "8.0"
        ],
        [
         "39",
         "166080",
         "100",
         "15",
         "831",
         "5.1"
        ],
        [
         "40",
         "96956",
         "0",
         "2",
         "761",
         "5.3"
        ],
        [
         "41",
         "196954",
         "50",
         "8",
         "2290",
         "7.5"
        ],
        [
         "42",
         "56745",
         "100",
         "1",
         "502",
         "5.5"
        ],
        [
         "43",
         "113455",
         "50",
         "8",
         "1281",
         "8.0"
        ],
        [
         "44",
         "158808",
         "50",
         "5",
         "1926",
         "7.4"
        ],
        [
         "45",
         "174663",
         "50",
         "7",
         "1151",
         "5.4"
        ],
        [
         "46",
         "46753",
         "50",
         "1",
         "2012",
         "9.7"
        ],
        [
         "47",
         "69020",
         "0",
         "4",
         "1584",
         "8.8"
        ],
        [
         "48",
         "288815",
         "0",
         "12",
         "1930",
         "7.2"
        ],
        [
         "49",
         "124871",
         "50",
         "19",
         "1556",
         "8.0"
        ]
       ],
       "shape": {
        "columns": 5,
        "rows": 15000
       }
      },
      "text/html": [
       "<div>\n",
       "<style scoped>\n",
       "    .dataframe tbody tr th:only-of-type {\n",
       "        vertical-align: middle;\n",
       "    }\n",
       "\n",
       "    .dataframe tbody tr th {\n",
       "        vertical-align: top;\n",
       "    }\n",
       "\n",
       "    .dataframe thead th {\n",
       "        text-align: right;\n",
       "    }\n",
       "</style>\n",
       "<table border=\"1\" class=\"dataframe\">\n",
       "  <thead>\n",
       "    <tr style=\"text-align: right;\">\n",
       "      <th></th>\n",
       "      <th>salary_usd</th>\n",
       "      <th>remote_ratio</th>\n",
       "      <th>years_experience</th>\n",
       "      <th>job_description_length</th>\n",
       "      <th>benefits_score</th>\n",
       "    </tr>\n",
       "  </thead>\n",
       "  <tbody>\n",
       "    <tr>\n",
       "      <th>0</th>\n",
       "      <td>90376</td>\n",
       "      <td>50</td>\n",
       "      <td>9</td>\n",
       "      <td>1076</td>\n",
       "      <td>5.9</td>\n",
       "    </tr>\n",
       "    <tr>\n",
       "      <th>1</th>\n",
       "      <td>61895</td>\n",
       "      <td>100</td>\n",
       "      <td>1</td>\n",
       "      <td>1268</td>\n",
       "      <td>5.2</td>\n",
       "    </tr>\n",
       "    <tr>\n",
       "      <th>2</th>\n",
       "      <td>152626</td>\n",
       "      <td>0</td>\n",
       "      <td>2</td>\n",
       "      <td>1974</td>\n",
       "      <td>9.4</td>\n",
       "    </tr>\n",
       "    <tr>\n",
       "      <th>3</th>\n",
       "      <td>80215</td>\n",
       "      <td>50</td>\n",
       "      <td>7</td>\n",
       "      <td>1345</td>\n",
       "      <td>8.6</td>\n",
       "    </tr>\n",
       "    <tr>\n",
       "      <th>4</th>\n",
       "      <td>54624</td>\n",
       "      <td>100</td>\n",
       "      <td>0</td>\n",
       "      <td>1989</td>\n",
       "      <td>6.6</td>\n",
       "    </tr>\n",
       "    <tr>\n",
       "      <th>...</th>\n",
       "      <td>...</td>\n",
       "      <td>...</td>\n",
       "      <td>...</td>\n",
       "      <td>...</td>\n",
       "      <td>...</td>\n",
       "    </tr>\n",
       "    <tr>\n",
       "      <th>14995</th>\n",
       "      <td>38604</td>\n",
       "      <td>50</td>\n",
       "      <td>1</td>\n",
       "      <td>1635</td>\n",
       "      <td>7.9</td>\n",
       "    </tr>\n",
       "    <tr>\n",
       "      <th>14996</th>\n",
       "      <td>57811</td>\n",
       "      <td>0</td>\n",
       "      <td>0</td>\n",
       "      <td>1624</td>\n",
       "      <td>8.2</td>\n",
       "    </tr>\n",
       "    <tr>\n",
       "      <th>14997</th>\n",
       "      <td>189490</td>\n",
       "      <td>50</td>\n",
       "      <td>17</td>\n",
       "      <td>1336</td>\n",
       "      <td>7.4</td>\n",
       "    </tr>\n",
       "    <tr>\n",
       "      <th>14998</th>\n",
       "      <td>79461</td>\n",
       "      <td>0</td>\n",
       "      <td>1</td>\n",
       "      <td>1935</td>\n",
       "      <td>5.6</td>\n",
       "    </tr>\n",
       "    <tr>\n",
       "      <th>14999</th>\n",
       "      <td>56481</td>\n",
       "      <td>50</td>\n",
       "      <td>2</td>\n",
       "      <td>2492</td>\n",
       "      <td>7.6</td>\n",
       "    </tr>\n",
       "  </tbody>\n",
       "</table>\n",
       "<p>15000 rows × 5 columns</p>\n",
       "</div>"
      ],
      "text/plain": [
       "       salary_usd  remote_ratio  years_experience  job_description_length  \\\n",
       "0           90376            50                 9                    1076   \n",
       "1           61895           100                 1                    1268   \n",
       "2          152626             0                 2                    1974   \n",
       "3           80215            50                 7                    1345   \n",
       "4           54624           100                 0                    1989   \n",
       "...           ...           ...               ...                     ...   \n",
       "14995       38604            50                 1                    1635   \n",
       "14996       57811             0                 0                    1624   \n",
       "14997      189490            50                17                    1336   \n",
       "14998       79461             0                 1                    1935   \n",
       "14999       56481            50                 2                    2492   \n",
       "\n",
       "       benefits_score  \n",
       "0                 5.9  \n",
       "1                 5.2  \n",
       "2                 9.4  \n",
       "3                 8.6  \n",
       "4                 6.6  \n",
       "...               ...  \n",
       "14995             7.9  \n",
       "14996             8.2  \n",
       "14997             7.4  \n",
       "14998             5.6  \n",
       "14999             7.6  \n",
       "\n",
       "[15000 rows x 5 columns]"
      ]
     },
     "execution_count": 9,
     "metadata": {},
     "output_type": "execute_result"
    }
   ],
   "source": [
    "interval_or_ratio_scale_variables = ['salary_usd', 'remote_ratio', 'years_experience', 'job_description_length', 'benefits_score']\n",
    "\n",
    "df[interval_or_ratio_scale_variables]"
   ]
  },
  {
   "cell_type": "code",
   "execution_count": 16,
   "metadata": {},
   "outputs": [
    {
     "data": {
      "image/png": "[encoded data removed]",
      "text/plain": [
       "<Figure size 1200x600 with 6 Axes>"
      ]
     },
     "metadata": {},
     "output_type": "display_data"
    }
   ],
   "source": [
    "# used llm to plot multiple plots on one chart \n",
    "\n",
    "from scipy.stats import norm\n",
    "\n",
    "vars = interval_or_ratio_scale_variables\n",
    "n = len(vars)\n",
    "ncols = 3\n",
    "nrows = math.ceil(n / ncols)\n",
    "\n",
    "fig, axes = plt.subplots(nrows, ncols, figsize=(ncols*4, nrows*3))\n",
    "axes = axes.flatten()\n",
    "\n",
    "for i, var in enumerate(vars):\n",
    "    ax = axes[i]\n",
    "    # ax.hist(df[var].dropna(), bins=20)\n",
    "\n",
    "    sns.distplot(df[var].dropna(), ax=ax, fit=norm) \n",
    "\n",
    "    ax.set_title(var)\n",
    "    ax.set_ylabel('Frequency')\n",
    "\n",
    "for ax in axes[n:]:\n",
    "    ax.set_visible(False)\n",
    "\n",
    "plt.tight_layout()\n",
    "plt.show()"
   ]
  },
  {
   "cell_type": "code",
   "execution_count": 19,
   "metadata": {},
   "outputs": [
    {
     "name": "stdout",
     "output_type": "stream",
     "text": [
      "salary_usd ShapiroResult(statistic=np.float64(0.9008752460033119), pvalue=np.float64(1.7227839713232158e-70))\n",
      "\n",
      "remote_ratio ShapiroResult(statistic=np.float64(0.7932819526307018), pvalue=np.float64(1.0955360919741062e-86))\n",
      "\n",
      "years_experience ShapiroResult(statistic=np.float64(0.8939501363302923), pvalue=np.float64(6.599084785317721e-72))\n",
      "\n",
      "job_description_length ShapiroResult(statistic=np.float64(0.9553456395491154), pvalue=np.float64(7.474712240221386e-55))\n",
      "\n",
      "benefits_score ShapiroResult(statistic=np.float64(0.9535387124797851), pvalue=np.float64(1.390939767787847e-55))\n",
      "\n"
     ]
    }
   ],
   "source": [
    "for var in interval_or_ratio_scale_variables:\n",
    "    print(var, stats.shapiro(df[var].dropna()))\n",
    "    print()\n"
   ]
  },
  {
   "cell_type": "markdown",
   "metadata": {},
   "source": [
    "H1: The distribution of var is different from the normal distribution\n",
    "\n",
    "H0: The distribution of var is not different from the normal distribution\n",
    "\n",
    "Conclusion: \n",
    "as p-value < 0.05 each of variables, H1 is accepted => the distribution is significantly different from normal for every variable\n",
    "\n",
    "-------"
   ]
  },
  {
   "attachments": {},
   "cell_type": "markdown",
   "metadata": {},
   "source": [
    "2. Run a chi-square test to analyze the relationship between categorical variables. You can take the existing variables or create new categorical variables based on interval or ratio scale variables. Explain why the chi-square test is applicable to analyze the relationship between the selected pairs of variables. Create a contingency table based on these variables and describe the tendencies that you can observe in frequency distribution. Formulate hypotheses for the chi-square test, interpret the results of analysis and make conclusions. Create a suitable graph to demonstrate the relationship between the selected variables."
   ]
  },
  {
   "cell_type": "code",
   "execution_count": 11,
   "metadata": {},
   "outputs": [],
   "source": [
    "# your code here"
   ]
  },
  {
   "attachments": {},
   "cell_type": "markdown",
   "metadata": {},
   "source": [
    "3. Calculate appropriate correlation coefficients between **any three pairs** of variables. Explain the selection of the correlation coefficient. Fill in the table below. Interpret the results. Create suitable graphs to visualize the analyzed relationships. "
   ]
  },
  {
   "attachments": {},
   "cell_type": "markdown",
   "metadata": {},
   "source": [
    "| Variables | Appropriate correlation coefficient(justification of the choice) | Hypotheses | Strength of the relationship | Direction of the relationship | Statistical significance of the relationship! |\n",
    "| --- | --- | --- | --- | --- | --- |\n",
    "| --- | --- | --- | --- | --- | --- |\n",
    "| --- | --- | --- | --- | --- | --- |\n",
    "| --- | --- | --- | --- | --- | --- |"
   ]
  },
  {
   "cell_type": "code",
   "execution_count": 12,
   "metadata": {},
   "outputs": [],
   "source": [
    "# your code here"
   ]
  },
  {
   "cell_type": "markdown",
   "metadata": {},
   "source": [
    "4. Calculate a paired correlation coefficient between any variables. Then calculate the partial correlation coefficient between the same pair of variables controlling for any other third variable. Interpret the results of analysis. Create suitable graphs to visualize the analyzed relationships."
   ]
  },
  {
   "cell_type": "code",
   "execution_count": 13,
   "metadata": {},
   "outputs": [],
   "source": [
    "# your code here"
   ]
  },
  {
   "cell_type": "markdown",
   "metadata": {},
   "source": [
    "Comments on the task and principles of its assessment:\n",
    "\n",
    "- All points of the task must be accompanied by _executed_ code fragments.\n",
    "- All results of the code execution (statistics, graphs, tables) should be commented, conclusions in the written form should be made based on them.\n",
    "- If you have completed this task, you will receive 8 points (excellent grade). To get a higher grade (9 or 10), you need to go beyond the proposed task. For example, use additional methods to investigate relationships between variables.\n",
    "- This task consists of four parts. The first weighs 20%, the second - 20%, the third - 20%, the fourth - 20%.\n",
    "- The task can be completed individually or in a group of 2 students, the assessment criteria will be the same.\n",
    "- If the task is completed by 2 students, then only one of the students should upload the work to SmartLMS.\n",
    "- The name of the file uploaded to SmartLMS should include the last name(s) of the author(s) of the work.\n",
    "- If you use AI in the work, you must indicate where and how exactly it was used."
   ]
  },
  {
   "cell_type": "markdown",
   "metadata": {},
   "source": [
    "### Please upload the Jupyter Notebook with comments and answers in SmartLMS. The deadline is 17 September 23:55. "
   ]
  }
 ],
 "metadata": {
  "kernelspec": {
   "display_name": "venv",
   "language": "python",
   "name": "python3"
  },
  "language_info": {
   "codemirror_mode": {
    "name": "ipython",
    "version": 3
   },
   "file_extension": ".py",
   "mimetype": "text/x-python",
   "name": "python",
   "nbconvert_exporter": "python",
   "pygments_lexer": "ipython3",
   "version": "3.12.3"
  }
 },
 "nbformat": 4,
 "nbformat_minor": 2
}
