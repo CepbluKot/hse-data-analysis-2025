{
 "cells": [
  {
   "cell_type": "markdown",
   "metadata": {},
   "source": [
    "# Task 4. Cluster Analysis"
   ]
  },
  {
   "cell_type": "markdown",
   "metadata": {},
   "source": [
    "The file **WIPO-GII_2022.xlsx** contains country-level data on the indicators used to calculate the Global Innovation Index for 2022.\n",
    "\n",
    "### Variables:\n",
    "\n",
    "- Country\n",
    "- Business environment\n",
    "- Business sophistication index\n",
    "- Citable documents H-index\n",
    "- Creative goods and services\n",
    "- Creative goods exports, % total trade\n",
    "- Creative outputs index\n",
    "- Cultural and creative services exports, % total trade\n",
    "- Domestic market scale, bn PPP\n",
    "- Ecological sustainability\n",
    "- Expenditure on education, % GDP\n",
    "- Firms offering formal training, %\n",
    "- General infrastructure\n",
    "- Government effectiveness\n",
    "- Government's online service\n",
    "- Graduates in science and engineering, %\n",
    "- Gross expenditure on R&D, % GDP\n",
    "- High-tech exports, % total trade\n",
    "- High-tech imports, % total trade\n",
    "- High-tech manufacturing, %\n",
    "- Human capital and research index\n",
    "- Information and Communications Technology access\n",
    "- Information and Communications Technology services exports, % total trade\n",
    "- Information and Communications Technology services imports, % total trade\n",
    "- Information and Communications Technology use\n",
    "- Infrastructure index\n",
    "- Intangible assets\n",
    "- Joint venture/strategic alliance deals/bn PPP GDP\n",
    "- Knowledge absorption\n",
    "- Knowledge and technology outputs index\n",
    "- Knowledge workers\n",
    "- Knowledge-intensive employment, %\n",
    "- Logistics performance\n",
    "- Market sophistication index\n",
    "- Mobile app creation/bn PPP GDP\n",
    "- Online creativity\n",
    "- PISA scales in reading, maths and science\n",
    "- Political and operational stability\n",
    "- Political environment\n",
    "- Pupil-teacher ratio, secondary\n",
    "- QS university ranking average score of top 3 universities\n",
    "- Research and development (R&D)\n",
    "- Scientific and technical articles/bn PPP GDP\n",
    "- Software spending, % GDP\n",
    "- Tertiary education\n",
    "- Tertiary enrolment, % gross\n",
    "- University-industry R&D collaboration\n",
    "- Region\n",
    "- Region2\n",
    "- Euro area\n",
    "- European Union\n",
    "- OECD members\n",
    "- Least developed countries\n",
    "- Income\n",
    "- High income"
   ]
  },
  {
   "cell_type": "markdown",
   "metadata": {},
   "source": [
    "_Please complete the following tasks._"
   ]
  },
  {
   "cell_type": "markdown",
   "metadata": {},
   "source": [
    "1. Select not less than **10** interval or ratio scale variables for cluster analysis, check that the selected data are applicable for cluster analysis. If there are significant correlations between variables do the principal component analysis for dimensionality reduction. It's possible that you extract components not from all of the initially selected variables, but only from a subset of them. Interpret the results of the KMO measure. Provide a detailed description of each component and justify the choice of its name. Indicate the percentage of the variance of the original variables explained by the extracted components. Save the components as variables in the dataset."
   ]
  },
  {
   "cell_type": "code",
   "execution_count": 78,
   "metadata": {},
   "outputs": [],
   "source": [
    "# your code here"
   ]
  },
  {
   "cell_type": "markdown",
   "metadata": {},
   "source": [
    "2. Form the final list of variables to be used for clustering. These may include:\n",
    "\n",
    "- only the original variables,\n",
    "- only the extracted components,\n",
    "- combination of original variables (for which components could not be formed) and components.\n",
    "\n",
    "Provide arguments supporting why the final list of variables can be used for clustering the observed objects."
   ]
  },
  {
   "cell_type": "code",
   "execution_count": 79,
   "metadata": {},
   "outputs": [],
   "source": [
    "# your code here"
   ]
  },
  {
   "attachments": {},
   "cell_type": "markdown",
   "metadata": {},
   "source": [
    "3. Select an appropriate clustering algorithm and justify your choice. Determine the number of clusters and explain your decision. Describe the resulting clusters using descriptive statistics. Please note, that it’s not enough just to create a table with the descriptive statistics. The important aspect of the analysis is the interpretation of the obtained results. You should provide the textual description of each cluster so as it will be clear what are the specific features of each cluster. Assign names to the clusters and justify them."
   ]
  },
  {
   "cell_type": "code",
   "execution_count": 80,
   "metadata": {},
   "outputs": [],
   "source": [
    "# your code here"
   ]
  },
  {
   "cell_type": "code",
   "execution_count": 81,
   "metadata": {},
   "outputs": [
    {
     "name": "stdout",
     "output_type": "stream",
     "text": [
      "Data loaded: (139, 55)\n"
     ]
    },
    {
     "data": {
      "application/vnd.microsoft.datawrangler.viewer.v0+json": {
       "columns": [
        {
         "name": "index",
         "rawType": "int64",
         "type": "integer"
        },
        {
         "name": "Country",
         "rawType": "object",
         "type": "string"
        },
        {
         "name": "Business environment_2022",
         "rawType": "float64",
         "type": "float"
        },
        {
         "name": "Business sophistication index_2022",
         "rawType": "float64",
         "type": "float"
        },
        {
         "name": "Citable documents H-index_2022",
         "rawType": "float64",
         "type": "float"
        },
        {
         "name": "Creative goods and services_2022",
         "rawType": "float64",
         "type": "float"
        },
        {
         "name": "Creative goods exports, % total trade_2022",
         "rawType": "float64",
         "type": "float"
        },
        {
         "name": "Creative outputs index_2022",
         "rawType": "float64",
         "type": "float"
        },
        {
         "name": "Cultural and creative services exports, % total trade_2022",
         "rawType": "float64",
         "type": "float"
        },
        {
         "name": "Domestic market scale, bn PPP$_2022",
         "rawType": "float64",
         "type": "float"
        },
        {
         "name": "Ecological sustainability_2022",
         "rawType": "float64",
         "type": "float"
        },
        {
         "name": "Expenditure on education, % GDP_2022",
         "rawType": "float64",
         "type": "float"
        },
        {
         "name": "Firms offering formal training, %_2022",
         "rawType": "float64",
         "type": "float"
        },
        {
         "name": "General infrastructure_2022",
         "rawType": "float64",
         "type": "float"
        },
        {
         "name": "Government effectiveness_2022",
         "rawType": "float64",
         "type": "float"
        },
        {
         "name": "Government's online service_2022",
         "rawType": "float64",
         "type": "float"
        },
        {
         "name": "Graduates in science and engineering, %_2022",
         "rawType": "float64",
         "type": "float"
        },
        {
         "name": "Gross expenditure on R&D, % GDP_2022",
         "rawType": "float64",
         "type": "float"
        },
        {
         "name": "High-tech exports, % total trade_2022",
         "rawType": "float64",
         "type": "float"
        },
        {
         "name": "High-tech imports, % total trade_2022",
         "rawType": "float64",
         "type": "float"
        },
        {
         "name": "High-tech manufacturing, %_2022",
         "rawType": "float64",
         "type": "float"
        },
        {
         "name": "Human capital and research index_2022",
         "rawType": "float64",
         "type": "float"
        },
        {
         "name": "Information and Communications Technology access_2022",
         "rawType": "float64",
         "type": "float"
        },
        {
         "name": "Information and Communications Technology services exports, % total trade_2022",
         "rawType": "float64",
         "type": "float"
        },
        {
         "name": "Information and Communications Technology services imports, % total trade_2022",
         "rawType": "float64",
         "type": "float"
        },
        {
         "name": "Information and Communications Technology use_2022",
         "rawType": "float64",
         "type": "float"
        },
        {
         "name": "Infrastructure index_2022",
         "rawType": "float64",
         "type": "float"
        },
        {
         "name": "Intangible assets_2022",
         "rawType": "float64",
         "type": "float"
        },
        {
         "name": "Joint venture/strategic alliance deals/bn PPP$ GDP_2022",
         "rawType": "float64",
         "type": "float"
        },
        {
         "name": "Knowledge absorption_2022",
         "rawType": "float64",
         "type": "float"
        },
        {
         "name": "Knowledge and technology outputs index_2022",
         "rawType": "float64",
         "type": "float"
        },
        {
         "name": "Knowledge workers_2022",
         "rawType": "float64",
         "type": "float"
        },
        {
         "name": "Knowledge-intensive employment, %_2022",
         "rawType": "float64",
         "type": "float"
        },
        {
         "name": "Logistics performance_2022",
         "rawType": "float64",
         "type": "float"
        },
        {
         "name": "Market sophistication index_2022",
         "rawType": "float64",
         "type": "float"
        },
        {
         "name": "Mobile app creation/bn PPP$ GDP_2022",
         "rawType": "float64",
         "type": "float"
        },
        {
         "name": "Online creativity_2022",
         "rawType": "float64",
         "type": "float"
        },
        {
         "name": "PISA scales in reading, maths and science_2022",
         "rawType": "float64",
         "type": "float"
        },
        {
         "name": "Political and operational stability_2022",
         "rawType": "float64",
         "type": "float"
        },
        {
         "name": "Political environment_2022",
         "rawType": "float64",
         "type": "float"
        },
        {
         "name": "Pupil-teacher ratio, secondary_2022",
         "rawType": "float64",
         "type": "float"
        },
        {
         "name": "QS university ranking average score of top 3 universities_2022",
         "rawType": "float64",
         "type": "float"
        },
        {
         "name": "Research and development (R&D)_2022",
         "rawType": "float64",
         "type": "float"
        },
        {
         "name": "Scientific and technical articles/bn PPP$ GDP_2022",
         "rawType": "float64",
         "type": "float"
        },
        {
         "name": "Software spending, % GDP_2022",
         "rawType": "float64",
         "type": "float"
        },
        {
         "name": "Tertiary education_2022",
         "rawType": "float64",
         "type": "float"
        },
        {
         "name": "Tertiary enrolment, % gross_2022",
         "rawType": "float64",
         "type": "float"
        },
        {
         "name": "University-industry R&D collaboration_2022",
         "rawType": "float64",
         "type": "float"
        },
        {
         "name": "Region",
         "rawType": "object",
         "type": "string"
        },
        {
         "name": "Region2",
         "rawType": "object",
         "type": "string"
        },
        {
         "name": "Euro area",
         "rawType": "int64",
         "type": "integer"
        },
        {
         "name": "European Union",
         "rawType": "int64",
         "type": "integer"
        },
        {
         "name": "OECD members",
         "rawType": "int64",
         "type": "integer"
        },
        {
         "name": "Least developed countries",
         "rawType": "int64",
         "type": "integer"
        },
        {
         "name": "Income",
         "rawType": "object",
         "type": "string"
        },
        {
         "name": "High income",
         "rawType": "int64",
         "type": "integer"
        }
       ],
       "ref": "9eac9d0f-bfe3-4ea1-8e53-e74ce0706661",
       "rows": [
        [
         "0",
         "Cote d'Ivoire",
         "48.3",
         "21.8",
         "5.1",
         "1.2",
         "0.3",
         "6.0",
         "2.1",
         "3.4",
         "23.7",
         "25.5",
         "40.4",
         "26.9",
         "39.4",
         "45.3",
         "0.0",
         "1.1",
         "18.5",
         "14.4",
         "0.0",
         "11.8",
         "65.2",
         "8.2",
         "44.2",
         "40.5",
         "32.8",
         "11.3",
         "1.9",
         "26.9",
         "11.0",
         "17.2",
         "7.8",
         "47.9",
         "14.8",
         "0.0",
         "0.3",
         "0.0",
         "67.3",
         "53.3",
         "46.1",
         "0.0",
         "0.2",
         "4.2",
         "1.4",
         "5.2",
         "4.0",
         "38.5",
         "Sub-Saharan Africa",
         "Sub-Saharan Africa",
         "0",
         "0",
         "0",
         "0",
         "middle income",
         "0"
        ],
        [
         "1",
         "Czechia",
         "42.1",
         "46.2",
         "30.4",
         "40.6",
         "100.0",
         "29.9",
         "15.3",
         "10.3",
         "47.3",
         "35.4",
         "51.4",
         "50.4",
         "70.3",
         "72.3",
         "55.4",
         "36.5",
         "82.9",
         "74.3",
         "80.2",
         "43.3",
         "89.7",
         "22.4",
         "30.2",
         "73.8",
         "58.3",
         "24.1",
         "5.1",
         "47.7",
         "44.7",
         "45.6",
         "62.4",
         "75.8",
         "29.6",
         "13.3",
         "30.9",
         "65.9",
         "81.8",
         "76.1",
         "85.8",
         "31.5",
         "24.5",
         "53.2",
         "25.3",
         "45.4",
         "42.6",
         "59.1",
         "Europe & Central Asia",
         "Europe",
         "0",
         "1",
         "1",
         "0",
         "high income",
         "1"
        ],
        [
         "2",
         "Egypt, Arab Rep.",
         "45.0",
         "20.4",
         "18.0",
         "9.1",
         "16.9",
         "14.1",
         "0.0",
         "30.9",
         "25.4",
         "13.9",
         "2.7",
         "21.0",
         "38.0",
         "57.1",
         "5.9",
         "17.5",
         "12.2",
         "18.9",
         "29.2",
         "20.3",
         "81.1",
         "13.8",
         "27.8",
         "51.1",
         "35.5",
         "23.3",
         "3.5",
         "23.2",
         "18.2",
         "13.8",
         "40.0",
         "35.8",
         "26.2",
         "0.6",
         "0.8",
         "0.0",
         "60.0",
         "49.0",
         "74.3",
         "19.8",
         "11.1",
         "27.1",
         "19.1",
         "11.6",
         "24.1",
         "47.0",
         "Middle East & North Africa",
         "Middle East and North Africa",
         "0",
         "0",
         "0",
         "0",
         "middle income",
         "0"
        ],
        [
         "3",
         "Hong Kong SAR, China",
         "69.7",
         "46.7",
         "38.4",
         "47.4",
         "100.0",
         "53.2",
         "3.0",
         "10.8",
         "56.3",
         "37.0",
         "0.0",
         "44.2",
         "85.5",
         "0.0",
         "0.0",
         "18.0",
         "2.5",
         "100.0",
         "30.9",
         "57.4",
         "98.2",
         "3.3",
         "5.5",
         "83.0",
         "63.7",
         "54.7",
         "65.0",
         "49.8",
         "23.1",
         "46.1",
         "63.8",
         "87.0",
         "76.3",
         "37.9",
         "56.3",
         "80.3",
         "81.8",
         "83.7",
         "87.5",
         "82.9",
         "58.4",
         "0.0",
         "31.9",
         "49.4",
         "55.6",
         "62.9",
         "East Asia & Pacific",
         "Asia-Pacific",
         "0",
         "0",
         "0",
         "0",
         "high income",
         "1"
        ],
        [
         "4",
         "Iran, Islamic Rep.",
         "13.3",
         "18.6",
         "22.1",
         "4.0",
         "1.2",
         "31.8",
         "4.2",
         "26.6",
         "14.7",
         "27.3",
         "0.0",
         "43.3",
         "28.4",
         "58.8",
         "99.8",
         "16.1",
         "3.8",
         "11.8",
         "50.6",
         "35.0",
         "88.0",
         "1.2",
         "8.0",
         "68.2",
         "41.1",
         "60.2",
         "0.0",
         "18.6",
         "26.7",
         "19.2",
         "28.4",
         "37.2",
         "56.8",
         "0.5",
         "2.6",
         "0.0",
         "45.5",
         "36.9",
         "65.9",
         "25.8",
         "14.4",
         "62.9",
         "30.2",
         "46.4",
         "37.5",
         "27.7",
         "Middle East & North Africa",
         "Middle East and North Africa",
         "0",
         "0",
         "0",
         "0",
         "middle income",
         "0"
        ]
       ],
       "shape": {
        "columns": 55,
        "rows": 5
       }
      },
      "text/html": [
       "<div>\n",
       "<style scoped>\n",
       "    .dataframe tbody tr th:only-of-type {\n",
       "        vertical-align: middle;\n",
       "    }\n",
       "\n",
       "    .dataframe tbody tr th {\n",
       "        vertical-align: top;\n",
       "    }\n",
       "\n",
       "    .dataframe thead th {\n",
       "        text-align: right;\n",
       "    }\n",
       "</style>\n",
       "<table border=\"1\" class=\"dataframe\">\n",
       "  <thead>\n",
       "    <tr style=\"text-align: right;\">\n",
       "      <th></th>\n",
       "      <th>Country</th>\n",
       "      <th>Business environment_2022</th>\n",
       "      <th>Business sophistication index_2022</th>\n",
       "      <th>Citable documents H-index_2022</th>\n",
       "      <th>Creative goods and services_2022</th>\n",
       "      <th>Creative goods exports, % total trade_2022</th>\n",
       "      <th>Creative outputs index_2022</th>\n",
       "      <th>Cultural and creative services exports, % total trade_2022</th>\n",
       "      <th>Domestic market scale, bn PPP$_2022</th>\n",
       "      <th>Ecological sustainability_2022</th>\n",
       "      <th>...</th>\n",
       "      <th>Tertiary enrolment, % gross_2022</th>\n",
       "      <th>University-industry R&amp;D collaboration_2022</th>\n",
       "      <th>Region</th>\n",
       "      <th>Region2</th>\n",
       "      <th>Euro area</th>\n",
       "      <th>European Union</th>\n",
       "      <th>OECD members</th>\n",
       "      <th>Least developed countries</th>\n",
       "      <th>Income</th>\n",
       "      <th>High income</th>\n",
       "    </tr>\n",
       "  </thead>\n",
       "  <tbody>\n",
       "    <tr>\n",
       "      <th>0</th>\n",
       "      <td>Cote d'Ivoire</td>\n",
       "      <td>48.3</td>\n",
       "      <td>21.8</td>\n",
       "      <td>5.1</td>\n",
       "      <td>1.2</td>\n",
       "      <td>0.3</td>\n",
       "      <td>6.0</td>\n",
       "      <td>2.1</td>\n",
       "      <td>3.4</td>\n",
       "      <td>23.7</td>\n",
       "      <td>...</td>\n",
       "      <td>4.0</td>\n",
       "      <td>38.5</td>\n",
       "      <td>Sub-Saharan Africa</td>\n",
       "      <td>Sub-Saharan Africa</td>\n",
       "      <td>0</td>\n",
       "      <td>0</td>\n",
       "      <td>0</td>\n",
       "      <td>0</td>\n",
       "      <td>middle income</td>\n",
       "      <td>0</td>\n",
       "    </tr>\n",
       "    <tr>\n",
       "      <th>1</th>\n",
       "      <td>Czechia</td>\n",
       "      <td>42.1</td>\n",
       "      <td>46.2</td>\n",
       "      <td>30.4</td>\n",
       "      <td>40.6</td>\n",
       "      <td>100.0</td>\n",
       "      <td>29.9</td>\n",
       "      <td>15.3</td>\n",
       "      <td>10.3</td>\n",
       "      <td>47.3</td>\n",
       "      <td>...</td>\n",
       "      <td>42.6</td>\n",
       "      <td>59.1</td>\n",
       "      <td>Europe &amp; Central Asia</td>\n",
       "      <td>Europe</td>\n",
       "      <td>0</td>\n",
       "      <td>1</td>\n",
       "      <td>1</td>\n",
       "      <td>0</td>\n",
       "      <td>high income</td>\n",
       "      <td>1</td>\n",
       "    </tr>\n",
       "    <tr>\n",
       "      <th>2</th>\n",
       "      <td>Egypt, Arab Rep.</td>\n",
       "      <td>45.0</td>\n",
       "      <td>20.4</td>\n",
       "      <td>18.0</td>\n",
       "      <td>9.1</td>\n",
       "      <td>16.9</td>\n",
       "      <td>14.1</td>\n",
       "      <td>0.0</td>\n",
       "      <td>30.9</td>\n",
       "      <td>25.4</td>\n",
       "      <td>...</td>\n",
       "      <td>24.1</td>\n",
       "      <td>47.0</td>\n",
       "      <td>Middle East &amp; North Africa</td>\n",
       "      <td>Middle East and North Africa</td>\n",
       "      <td>0</td>\n",
       "      <td>0</td>\n",
       "      <td>0</td>\n",
       "      <td>0</td>\n",
       "      <td>middle income</td>\n",
       "      <td>0</td>\n",
       "    </tr>\n",
       "    <tr>\n",
       "      <th>3</th>\n",
       "      <td>Hong Kong SAR, China</td>\n",
       "      <td>69.7</td>\n",
       "      <td>46.7</td>\n",
       "      <td>38.4</td>\n",
       "      <td>47.4</td>\n",
       "      <td>100.0</td>\n",
       "      <td>53.2</td>\n",
       "      <td>3.0</td>\n",
       "      <td>10.8</td>\n",
       "      <td>56.3</td>\n",
       "      <td>...</td>\n",
       "      <td>55.6</td>\n",
       "      <td>62.9</td>\n",
       "      <td>East Asia &amp; Pacific</td>\n",
       "      <td>Asia-Pacific</td>\n",
       "      <td>0</td>\n",
       "      <td>0</td>\n",
       "      <td>0</td>\n",
       "      <td>0</td>\n",
       "      <td>high income</td>\n",
       "      <td>1</td>\n",
       "    </tr>\n",
       "    <tr>\n",
       "      <th>4</th>\n",
       "      <td>Iran, Islamic Rep.</td>\n",
       "      <td>13.3</td>\n",
       "      <td>18.6</td>\n",
       "      <td>22.1</td>\n",
       "      <td>4.0</td>\n",
       "      <td>1.2</td>\n",
       "      <td>31.8</td>\n",
       "      <td>4.2</td>\n",
       "      <td>26.6</td>\n",
       "      <td>14.7</td>\n",
       "      <td>...</td>\n",
       "      <td>37.5</td>\n",
       "      <td>27.7</td>\n",
       "      <td>Middle East &amp; North Africa</td>\n",
       "      <td>Middle East and North Africa</td>\n",
       "      <td>0</td>\n",
       "      <td>0</td>\n",
       "      <td>0</td>\n",
       "      <td>0</td>\n",
       "      <td>middle income</td>\n",
       "      <td>0</td>\n",
       "    </tr>\n",
       "  </tbody>\n",
       "</table>\n",
       "<p>5 rows × 55 columns</p>\n",
       "</div>"
      ],
      "text/plain": [
       "                Country  Business environment_2022  \\\n",
       "0         Cote d'Ivoire                       48.3   \n",
       "1               Czechia                       42.1   \n",
       "2      Egypt, Arab Rep.                       45.0   \n",
       "3  Hong Kong SAR, China                       69.7   \n",
       "4    Iran, Islamic Rep.                       13.3   \n",
       "\n",
       "   Business sophistication index_2022  Citable documents H-index_2022  \\\n",
       "0                                21.8                             5.1   \n",
       "1                                46.2                            30.4   \n",
       "2                                20.4                            18.0   \n",
       "3                                46.7                            38.4   \n",
       "4                                18.6                            22.1   \n",
       "\n",
       "   Creative goods and services_2022  \\\n",
       "0                               1.2   \n",
       "1                              40.6   \n",
       "2                               9.1   \n",
       "3                              47.4   \n",
       "4                               4.0   \n",
       "\n",
       "   Creative goods exports, % total trade_2022  Creative outputs index_2022  \\\n",
       "0                                         0.3                          6.0   \n",
       "1                                       100.0                         29.9   \n",
       "2                                        16.9                         14.1   \n",
       "3                                       100.0                         53.2   \n",
       "4                                         1.2                         31.8   \n",
       "\n",
       "   Cultural and creative services exports, % total trade_2022  \\\n",
       "0                                                2.1            \n",
       "1                                               15.3            \n",
       "2                                                0.0            \n",
       "3                                                3.0            \n",
       "4                                                4.2            \n",
       "\n",
       "   Domestic market scale, bn PPP$_2022  Ecological sustainability_2022  ...  \\\n",
       "0                                  3.4                            23.7  ...   \n",
       "1                                 10.3                            47.3  ...   \n",
       "2                                 30.9                            25.4  ...   \n",
       "3                                 10.8                            56.3  ...   \n",
       "4                                 26.6                            14.7  ...   \n",
       "\n",
       "   Tertiary enrolment, % gross_2022  \\\n",
       "0                               4.0   \n",
       "1                              42.6   \n",
       "2                              24.1   \n",
       "3                              55.6   \n",
       "4                              37.5   \n",
       "\n",
       "   University-industry R&D collaboration_2022                      Region  \\\n",
       "0                                        38.5          Sub-Saharan Africa   \n",
       "1                                        59.1       Europe & Central Asia   \n",
       "2                                        47.0  Middle East & North Africa   \n",
       "3                                        62.9         East Asia & Pacific   \n",
       "4                                        27.7  Middle East & North Africa   \n",
       "\n",
       "                        Region2  Euro area  European Union  OECD members  \\\n",
       "0            Sub-Saharan Africa          0               0             0   \n",
       "1                        Europe          0               1             1   \n",
       "2  Middle East and North Africa          0               0             0   \n",
       "3                  Asia-Pacific          0               0             0   \n",
       "4  Middle East and North Africa          0               0             0   \n",
       "\n",
       "   Least developed countries         Income  High income  \n",
       "0                          0  middle income            0  \n",
       "1                          0    high income            1  \n",
       "2                          0  middle income            0  \n",
       "3                          0    high income            1  \n",
       "4                          0  middle income            0  \n",
       "\n",
       "[5 rows x 55 columns]"
      ]
     },
     "metadata": {},
     "output_type": "display_data"
    }
   ],
   "source": [
    "import pandas as pd\n",
    "df = pd.read_excel(\"WIPO-GII_2022.xlsx\")\n",
    "print(\"Data loaded:\", df.shape)\n",
    "display(df.head())"
   ]
  },
  {
   "cell_type": "markdown",
   "metadata": {},
   "source": [
    "4. Conduct a pos-hoc analysis of the data based on the categorical variables in the dataset. For example, examine how countries from different regions are distributed across the clusters, or which clusters mainly include OECD member countries."
   ]
  },
  {
   "cell_type": "code",
   "execution_count": 82,
   "metadata": {},
   "outputs": [
    {
     "data": {
      "application/vnd.microsoft.datawrangler.viewer.v0+json": {
       "columns": [
        {
         "name": "index",
         "rawType": "int64",
         "type": "integer"
        },
        {
         "name": "Country",
         "rawType": "object",
         "type": "string"
        },
        {
         "name": "Business environment_2022",
         "rawType": "float64",
         "type": "float"
        },
        {
         "name": "Business sophistication index_2022",
         "rawType": "float64",
         "type": "float"
        },
        {
         "name": "Citable documents H-index_2022",
         "rawType": "float64",
         "type": "float"
        },
        {
         "name": "Creative goods and services_2022",
         "rawType": "float64",
         "type": "float"
        },
        {
         "name": "Creative goods exports, % total trade_2022",
         "rawType": "float64",
         "type": "float"
        },
        {
         "name": "Creative outputs index_2022",
         "rawType": "float64",
         "type": "float"
        },
        {
         "name": "Cultural and creative services exports, % total trade_2022",
         "rawType": "float64",
         "type": "float"
        },
        {
         "name": "Domestic market scale, bn PPP$_2022",
         "rawType": "float64",
         "type": "float"
        },
        {
         "name": "Ecological sustainability_2022",
         "rawType": "float64",
         "type": "float"
        },
        {
         "name": "Expenditure on education, % GDP_2022",
         "rawType": "float64",
         "type": "float"
        },
        {
         "name": "Firms offering formal training, %_2022",
         "rawType": "float64",
         "type": "float"
        },
        {
         "name": "General infrastructure_2022",
         "rawType": "float64",
         "type": "float"
        },
        {
         "name": "Government effectiveness_2022",
         "rawType": "float64",
         "type": "float"
        },
        {
         "name": "Government's online service_2022",
         "rawType": "float64",
         "type": "float"
        },
        {
         "name": "Graduates in science and engineering, %_2022",
         "rawType": "float64",
         "type": "float"
        },
        {
         "name": "Gross expenditure on R&D, % GDP_2022",
         "rawType": "float64",
         "type": "float"
        },
        {
         "name": "High-tech exports, % total trade_2022",
         "rawType": "float64",
         "type": "float"
        },
        {
         "name": "High-tech imports, % total trade_2022",
         "rawType": "float64",
         "type": "float"
        },
        {
         "name": "High-tech manufacturing, %_2022",
         "rawType": "float64",
         "type": "float"
        },
        {
         "name": "Human capital and research index_2022",
         "rawType": "float64",
         "type": "float"
        },
        {
         "name": "Information and Communications Technology access_2022",
         "rawType": "float64",
         "type": "float"
        },
        {
         "name": "Information and Communications Technology services exports, % total trade_2022",
         "rawType": "float64",
         "type": "float"
        },
        {
         "name": "Information and Communications Technology services imports, % total trade_2022",
         "rawType": "float64",
         "type": "float"
        },
        {
         "name": "Information and Communications Technology use_2022",
         "rawType": "float64",
         "type": "float"
        },
        {
         "name": "Infrastructure index_2022",
         "rawType": "float64",
         "type": "float"
        },
        {
         "name": "Intangible assets_2022",
         "rawType": "float64",
         "type": "float"
        },
        {
         "name": "Joint venture/strategic alliance deals/bn PPP$ GDP_2022",
         "rawType": "float64",
         "type": "float"
        },
        {
         "name": "Knowledge absorption_2022",
         "rawType": "float64",
         "type": "float"
        },
        {
         "name": "Knowledge and technology outputs index_2022",
         "rawType": "float64",
         "type": "float"
        },
        {
         "name": "Knowledge workers_2022",
         "rawType": "float64",
         "type": "float"
        },
        {
         "name": "Knowledge-intensive employment, %_2022",
         "rawType": "float64",
         "type": "float"
        },
        {
         "name": "Logistics performance_2022",
         "rawType": "float64",
         "type": "float"
        },
        {
         "name": "Market sophistication index_2022",
         "rawType": "float64",
         "type": "float"
        },
        {
         "name": "Mobile app creation/bn PPP$ GDP_2022",
         "rawType": "float64",
         "type": "float"
        },
        {
         "name": "Online creativity_2022",
         "rawType": "float64",
         "type": "float"
        },
        {
         "name": "PISA scales in reading, maths and science_2022",
         "rawType": "float64",
         "type": "float"
        },
        {
         "name": "Political and operational stability_2022",
         "rawType": "float64",
         "type": "float"
        },
        {
         "name": "Political environment_2022",
         "rawType": "float64",
         "type": "float"
        },
        {
         "name": "Pupil-teacher ratio, secondary_2022",
         "rawType": "float64",
         "type": "float"
        },
        {
         "name": "QS university ranking average score of top 3 universities_2022",
         "rawType": "float64",
         "type": "float"
        },
        {
         "name": "Research and development (R&D)_2022",
         "rawType": "float64",
         "type": "float"
        },
        {
         "name": "Scientific and technical articles/bn PPP$ GDP_2022",
         "rawType": "float64",
         "type": "float"
        },
        {
         "name": "Software spending, % GDP_2022",
         "rawType": "float64",
         "type": "float"
        },
        {
         "name": "Tertiary education_2022",
         "rawType": "float64",
         "type": "float"
        },
        {
         "name": "Tertiary enrolment, % gross_2022",
         "rawType": "float64",
         "type": "float"
        },
        {
         "name": "University-industry R&D collaboration_2022",
         "rawType": "float64",
         "type": "float"
        },
        {
         "name": "Region",
         "rawType": "object",
         "type": "string"
        },
        {
         "name": "Region2",
         "rawType": "object",
         "type": "string"
        },
        {
         "name": "Euro area",
         "rawType": "int64",
         "type": "integer"
        },
        {
         "name": "European Union",
         "rawType": "int64",
         "type": "integer"
        },
        {
         "name": "OECD members",
         "rawType": "int64",
         "type": "integer"
        },
        {
         "name": "Least developed countries",
         "rawType": "int64",
         "type": "integer"
        },
        {
         "name": "Income",
         "rawType": "object",
         "type": "string"
        },
        {
         "name": "High income",
         "rawType": "int64",
         "type": "integer"
        }
       ],
       "ref": "1fd50d37-b110-42c7-9c12-85aaa09c4d77",
       "rows": [
        [
         "0",
         "Cote d'Ivoire",
         "48.3",
         "21.8",
         "5.1",
         "1.2",
         "0.3",
         "6.0",
         "2.1",
         "3.4",
         "23.7",
         "25.5",
         "40.4",
         "26.9",
         "39.4",
         "45.3",
         "0.0",
         "1.1",
         "18.5",
         "14.4",
         "0.0",
         "11.8",
         "65.2",
         "8.2",
         "44.2",
         "40.5",
         "32.8",
         "11.3",
         "1.9",
         "26.9",
         "11.0",
         "17.2",
         "7.8",
         "47.9",
         "14.8",
         "0.0",
         "0.3",
         "0.0",
         "67.3",
         "53.3",
         "46.1",
         "0.0",
         "0.2",
         "4.2",
         "1.4",
         "5.2",
         "4.0",
         "38.5",
         "Sub-Saharan Africa",
         "Sub-Saharan Africa",
         "0",
         "0",
         "0",
         "0",
         "middle income",
         "0"
        ],
        [
         "1",
         "Czechia",
         "42.1",
         "46.2",
         "30.4",
         "40.6",
         "100.0",
         "29.9",
         "15.3",
         "10.3",
         "47.3",
         "35.4",
         "51.4",
         "50.4",
         "70.3",
         "72.3",
         "55.4",
         "36.5",
         "82.9",
         "74.3",
         "80.2",
         "43.3",
         "89.7",
         "22.4",
         "30.2",
         "73.8",
         "58.3",
         "24.1",
         "5.1",
         "47.7",
         "44.7",
         "45.6",
         "62.4",
         "75.8",
         "29.6",
         "13.3",
         "30.9",
         "65.9",
         "81.8",
         "76.1",
         "85.8",
         "31.5",
         "24.5",
         "53.2",
         "25.3",
         "45.4",
         "42.6",
         "59.1",
         "Europe & Central Asia",
         "Europe",
         "0",
         "1",
         "1",
         "0",
         "high income",
         "1"
        ],
        [
         "2",
         "Egypt, Arab Rep.",
         "45.0",
         "20.4",
         "18.0",
         "9.1",
         "16.9",
         "14.1",
         "0.0",
         "30.9",
         "25.4",
         "13.9",
         "2.7",
         "21.0",
         "38.0",
         "57.1",
         "5.9",
         "17.5",
         "12.2",
         "18.9",
         "29.2",
         "20.3",
         "81.1",
         "13.8",
         "27.8",
         "51.1",
         "35.5",
         "23.3",
         "3.5",
         "23.2",
         "18.2",
         "13.8",
         "40.0",
         "35.8",
         "26.2",
         "0.6",
         "0.8",
         "0.0",
         "60.0",
         "49.0",
         "74.3",
         "19.8",
         "11.1",
         "27.1",
         "19.1",
         "11.6",
         "24.1",
         "47.0",
         "Middle East & North Africa",
         "Middle East and North Africa",
         "0",
         "0",
         "0",
         "0",
         "middle income",
         "0"
        ],
        [
         "3",
         "Hong Kong SAR, China",
         "69.7",
         "46.7",
         "38.4",
         "47.4",
         "100.0",
         "53.2",
         "3.0",
         "10.8",
         "56.3",
         "37.0",
         "0.0",
         "44.2",
         "85.5",
         "0.0",
         "0.0",
         "18.0",
         "2.5",
         "100.0",
         "30.9",
         "57.4",
         "98.2",
         "3.3",
         "5.5",
         "83.0",
         "63.7",
         "54.7",
         "65.0",
         "49.8",
         "23.1",
         "46.1",
         "63.8",
         "87.0",
         "76.3",
         "37.9",
         "56.3",
         "80.3",
         "81.8",
         "83.7",
         "87.5",
         "82.9",
         "58.4",
         "0.0",
         "31.9",
         "49.4",
         "55.6",
         "62.9",
         "East Asia & Pacific",
         "Asia-Pacific",
         "0",
         "0",
         "0",
         "0",
         "high income",
         "1"
        ],
        [
         "4",
         "Iran, Islamic Rep.",
         "13.3",
         "18.6",
         "22.1",
         "4.0",
         "1.2",
         "31.8",
         "4.2",
         "26.6",
         "14.7",
         "27.3",
         "0.0",
         "43.3",
         "28.4",
         "58.8",
         "99.8",
         "16.1",
         "3.8",
         "11.8",
         "50.6",
         "35.0",
         "88.0",
         "1.2",
         "8.0",
         "68.2",
         "41.1",
         "60.2",
         "0.0",
         "18.6",
         "26.7",
         "19.2",
         "28.4",
         "37.2",
         "56.8",
         "0.5",
         "2.6",
         "0.0",
         "45.5",
         "36.9",
         "65.9",
         "25.8",
         "14.4",
         "62.9",
         "30.2",
         "46.4",
         "37.5",
         "27.7",
         "Middle East & North Africa",
         "Middle East and North Africa",
         "0",
         "0",
         "0",
         "0",
         "middle income",
         "0"
        ]
       ],
       "shape": {
        "columns": 55,
        "rows": 5
       }
      },
      "text/html": [
       "<div>\n",
       "<style scoped>\n",
       "    .dataframe tbody tr th:only-of-type {\n",
       "        vertical-align: middle;\n",
       "    }\n",
       "\n",
       "    .dataframe tbody tr th {\n",
       "        vertical-align: top;\n",
       "    }\n",
       "\n",
       "    .dataframe thead th {\n",
       "        text-align: right;\n",
       "    }\n",
       "</style>\n",
       "<table border=\"1\" class=\"dataframe\">\n",
       "  <thead>\n",
       "    <tr style=\"text-align: right;\">\n",
       "      <th></th>\n",
       "      <th>Country</th>\n",
       "      <th>Business environment_2022</th>\n",
       "      <th>Business sophistication index_2022</th>\n",
       "      <th>Citable documents H-index_2022</th>\n",
       "      <th>Creative goods and services_2022</th>\n",
       "      <th>Creative goods exports, % total trade_2022</th>\n",
       "      <th>Creative outputs index_2022</th>\n",
       "      <th>Cultural and creative services exports, % total trade_2022</th>\n",
       "      <th>Domestic market scale, bn PPP$_2022</th>\n",
       "      <th>Ecological sustainability_2022</th>\n",
       "      <th>...</th>\n",
       "      <th>Tertiary enrolment, % gross_2022</th>\n",
       "      <th>University-industry R&amp;D collaboration_2022</th>\n",
       "      <th>Region</th>\n",
       "      <th>Region2</th>\n",
       "      <th>Euro area</th>\n",
       "      <th>European Union</th>\n",
       "      <th>OECD members</th>\n",
       "      <th>Least developed countries</th>\n",
       "      <th>Income</th>\n",
       "      <th>High income</th>\n",
       "    </tr>\n",
       "  </thead>\n",
       "  <tbody>\n",
       "    <tr>\n",
       "      <th>0</th>\n",
       "      <td>Cote d'Ivoire</td>\n",
       "      <td>48.3</td>\n",
       "      <td>21.8</td>\n",
       "      <td>5.1</td>\n",
       "      <td>1.2</td>\n",
       "      <td>0.3</td>\n",
       "      <td>6.0</td>\n",
       "      <td>2.1</td>\n",
       "      <td>3.4</td>\n",
       "      <td>23.7</td>\n",
       "      <td>...</td>\n",
       "      <td>4.0</td>\n",
       "      <td>38.5</td>\n",
       "      <td>Sub-Saharan Africa</td>\n",
       "      <td>Sub-Saharan Africa</td>\n",
       "      <td>0</td>\n",
       "      <td>0</td>\n",
       "      <td>0</td>\n",
       "      <td>0</td>\n",
       "      <td>middle income</td>\n",
       "      <td>0</td>\n",
       "    </tr>\n",
       "    <tr>\n",
       "      <th>1</th>\n",
       "      <td>Czechia</td>\n",
       "      <td>42.1</td>\n",
       "      <td>46.2</td>\n",
       "      <td>30.4</td>\n",
       "      <td>40.6</td>\n",
       "      <td>100.0</td>\n",
       "      <td>29.9</td>\n",
       "      <td>15.3</td>\n",
       "      <td>10.3</td>\n",
       "      <td>47.3</td>\n",
       "      <td>...</td>\n",
       "      <td>42.6</td>\n",
       "      <td>59.1</td>\n",
       "      <td>Europe &amp; Central Asia</td>\n",
       "      <td>Europe</td>\n",
       "      <td>0</td>\n",
       "      <td>1</td>\n",
       "      <td>1</td>\n",
       "      <td>0</td>\n",
       "      <td>high income</td>\n",
       "      <td>1</td>\n",
       "    </tr>\n",
       "    <tr>\n",
       "      <th>2</th>\n",
       "      <td>Egypt, Arab Rep.</td>\n",
       "      <td>45.0</td>\n",
       "      <td>20.4</td>\n",
       "      <td>18.0</td>\n",
       "      <td>9.1</td>\n",
       "      <td>16.9</td>\n",
       "      <td>14.1</td>\n",
       "      <td>0.0</td>\n",
       "      <td>30.9</td>\n",
       "      <td>25.4</td>\n",
       "      <td>...</td>\n",
       "      <td>24.1</td>\n",
       "      <td>47.0</td>\n",
       "      <td>Middle East &amp; North Africa</td>\n",
       "      <td>Middle East and North Africa</td>\n",
       "      <td>0</td>\n",
       "      <td>0</td>\n",
       "      <td>0</td>\n",
       "      <td>0</td>\n",
       "      <td>middle income</td>\n",
       "      <td>0</td>\n",
       "    </tr>\n",
       "    <tr>\n",
       "      <th>3</th>\n",
       "      <td>Hong Kong SAR, China</td>\n",
       "      <td>69.7</td>\n",
       "      <td>46.7</td>\n",
       "      <td>38.4</td>\n",
       "      <td>47.4</td>\n",
       "      <td>100.0</td>\n",
       "      <td>53.2</td>\n",
       "      <td>3.0</td>\n",
       "      <td>10.8</td>\n",
       "      <td>56.3</td>\n",
       "      <td>...</td>\n",
       "      <td>55.6</td>\n",
       "      <td>62.9</td>\n",
       "      <td>East Asia &amp; Pacific</td>\n",
       "      <td>Asia-Pacific</td>\n",
       "      <td>0</td>\n",
       "      <td>0</td>\n",
       "      <td>0</td>\n",
       "      <td>0</td>\n",
       "      <td>high income</td>\n",
       "      <td>1</td>\n",
       "    </tr>\n",
       "    <tr>\n",
       "      <th>4</th>\n",
       "      <td>Iran, Islamic Rep.</td>\n",
       "      <td>13.3</td>\n",
       "      <td>18.6</td>\n",
       "      <td>22.1</td>\n",
       "      <td>4.0</td>\n",
       "      <td>1.2</td>\n",
       "      <td>31.8</td>\n",
       "      <td>4.2</td>\n",
       "      <td>26.6</td>\n",
       "      <td>14.7</td>\n",
       "      <td>...</td>\n",
       "      <td>37.5</td>\n",
       "      <td>27.7</td>\n",
       "      <td>Middle East &amp; North Africa</td>\n",
       "      <td>Middle East and North Africa</td>\n",
       "      <td>0</td>\n",
       "      <td>0</td>\n",
       "      <td>0</td>\n",
       "      <td>0</td>\n",
       "      <td>middle income</td>\n",
       "      <td>0</td>\n",
       "    </tr>\n",
       "  </tbody>\n",
       "</table>\n",
       "<p>5 rows × 55 columns</p>\n",
       "</div>"
      ],
      "text/plain": [
       "                Country  Business environment_2022  \\\n",
       "0         Cote d'Ivoire                       48.3   \n",
       "1               Czechia                       42.1   \n",
       "2      Egypt, Arab Rep.                       45.0   \n",
       "3  Hong Kong SAR, China                       69.7   \n",
       "4    Iran, Islamic Rep.                       13.3   \n",
       "\n",
       "   Business sophistication index_2022  Citable documents H-index_2022  \\\n",
       "0                                21.8                             5.1   \n",
       "1                                46.2                            30.4   \n",
       "2                                20.4                            18.0   \n",
       "3                                46.7                            38.4   \n",
       "4                                18.6                            22.1   \n",
       "\n",
       "   Creative goods and services_2022  \\\n",
       "0                               1.2   \n",
       "1                              40.6   \n",
       "2                               9.1   \n",
       "3                              47.4   \n",
       "4                               4.0   \n",
       "\n",
       "   Creative goods exports, % total trade_2022  Creative outputs index_2022  \\\n",
       "0                                         0.3                          6.0   \n",
       "1                                       100.0                         29.9   \n",
       "2                                        16.9                         14.1   \n",
       "3                                       100.0                         53.2   \n",
       "4                                         1.2                         31.8   \n",
       "\n",
       "   Cultural and creative services exports, % total trade_2022  \\\n",
       "0                                                2.1            \n",
       "1                                               15.3            \n",
       "2                                                0.0            \n",
       "3                                                3.0            \n",
       "4                                                4.2            \n",
       "\n",
       "   Domestic market scale, bn PPP$_2022  Ecological sustainability_2022  ...  \\\n",
       "0                                  3.4                            23.7  ...   \n",
       "1                                 10.3                            47.3  ...   \n",
       "2                                 30.9                            25.4  ...   \n",
       "3                                 10.8                            56.3  ...   \n",
       "4                                 26.6                            14.7  ...   \n",
       "\n",
       "   Tertiary enrolment, % gross_2022  \\\n",
       "0                               4.0   \n",
       "1                              42.6   \n",
       "2                              24.1   \n",
       "3                              55.6   \n",
       "4                              37.5   \n",
       "\n",
       "   University-industry R&D collaboration_2022                      Region  \\\n",
       "0                                        38.5          Sub-Saharan Africa   \n",
       "1                                        59.1       Europe & Central Asia   \n",
       "2                                        47.0  Middle East & North Africa   \n",
       "3                                        62.9         East Asia & Pacific   \n",
       "4                                        27.7  Middle East & North Africa   \n",
       "\n",
       "                        Region2  Euro area  European Union  OECD members  \\\n",
       "0            Sub-Saharan Africa          0               0             0   \n",
       "1                        Europe          0               1             1   \n",
       "2  Middle East and North Africa          0               0             0   \n",
       "3                  Asia-Pacific          0               0             0   \n",
       "4  Middle East and North Africa          0               0             0   \n",
       "\n",
       "   Least developed countries         Income  High income  \n",
       "0                          0  middle income            0  \n",
       "1                          0    high income            1  \n",
       "2                          0  middle income            0  \n",
       "3                          0    high income            1  \n",
       "4                          0  middle income            0  \n",
       "\n",
       "[5 rows x 55 columns]"
      ]
     },
     "metadata": {},
     "output_type": "display_data"
    },
    {
     "name": "stdout",
     "output_type": "stream",
     "text": [
      "Number of numeric columns used for clustering: 46\n",
      "['Business environment_2022', 'Business sophistication index_2022', 'Citable documents H-index_2022', 'Creative goods and services_2022', 'Creative goods exports, % total trade_2022', 'Creative outputs index_2022', 'Cultural and creative services exports, % total trade_2022', 'Domestic market scale, bn PPP$_2022', 'Ecological sustainability_2022', 'Expenditure on education, % GDP_2022', 'Firms offering formal training, %_2022', 'General infrastructure_2022', 'Government effectiveness_2022', \"Government's online service_2022\", 'Graduates in science and engineering, %_2022']\n",
      "\n",
      "================================================================================\n",
      "EVALUATION OF NUMBER OF CLUSTERS (k = 2..6)\n",
      "================================================================================\n",
      "\n",
      "Metrics to help choose k:\n",
      "Silhouette scores: {2: 0.3545366209293725, 3: 0.22812674935544747, 4: 0.18041870727175321, 5: 0.17159221976735195, 6: 0.12123678094498044}\n",
      "Calinski-Harabasz scores: {2: 86.82604188098702, 3: 69.39519649345152, 4: 52.63765036446536, 5: 43.634966155322665, 6: 37.527208596030945}\n"
     ]
    },
    {
     "data": {
      "image/png": "[encoded data removed]",
      "text/plain": [
       "<Figure size 1000x300 with 3 Axes>"
      ]
     },
     "metadata": {},
     "output_type": "display_data"
    },
    {
     "name": "stdout",
     "output_type": "stream",
     "text": [
      "\n",
      "Short summary from k evaluation:\n",
      "- By silhouette score the best k = 2. Silhouette measures how well clusters are separated and how compact they are.\n",
      "- Use CH and elbow as supplementary checks; choose k combining metrics and domain knowledge.\n",
      "\n",
      "\n",
      "================================================================================\n",
      "CLUSTERING RESULTS\n",
      "================================================================================\n",
      "\n",
      "Cluster sizes (k=2) - i.e. cluster_k2 (k = 2):\n",
      "cluster_k2\n",
      "0    44\n",
      "1    95\n",
      "Name: count, dtype: int64\n",
      "\n",
      "Cluster sizes (k=3) - i.e. cluster_k3 (k = 3):\n",
      "cluster_k3\n",
      "0    57\n",
      "1    48\n",
      "2    34\n",
      "Name: count, dtype: int64\n",
      "\n",
      "================================================================================\n",
      "ANALYSIS 1 - Region2 vs cluster_k2 (k = 2)\n",
      "================================================================================\n",
      "\n",
      "1) What we did:\n",
      "- Goal: check how countries from different regions (Region2) are distributed across clusters obtained with k = 2.\n",
      "- Method: contingency table (counts), within-cluster percentages, χ² test, and Cramér's V as a measure of association strength.\n",
      "\n",
      "2) Results (counts and within-cluster percentages for cluster_k2):\n"
     ]
    },
    {
     "data": {
      "application/vnd.microsoft.datawrangler.viewer.v0+json": {
       "columns": [
        {
         "name": "cluster_k2",
         "rawType": "int32",
         "type": "integer"
        },
        {
         "name": "Americas",
         "rawType": "int64",
         "type": "integer"
        },
        {
         "name": "Asia-Pacific",
         "rawType": "int64",
         "type": "integer"
        },
        {
         "name": "Europe",
         "rawType": "int64",
         "type": "integer"
        },
        {
         "name": "Middle East and North Africa",
         "rawType": "int64",
         "type": "integer"
        },
        {
         "name": "Sub-Saharan Africa",
         "rawType": "int64",
         "type": "integer"
        }
       ],
       "ref": "5c010a6e-c4eb-4daa-9c72-c4088b50c599",
       "rows": [
        [
         "0",
         "2",
         "9",
         "31",
         "2",
         "0"
        ],
        [
         "1",
         "20",
         "18",
         "14",
         "13",
         "30"
        ]
       ],
       "shape": {
        "columns": 5,
        "rows": 2
       }
      },
      "text/html": [
       "<div>\n",
       "<style scoped>\n",
       "    .dataframe tbody tr th:only-of-type {\n",
       "        vertical-align: middle;\n",
       "    }\n",
       "\n",
       "    .dataframe tbody tr th {\n",
       "        vertical-align: top;\n",
       "    }\n",
       "\n",
       "    .dataframe thead th {\n",
       "        text-align: right;\n",
       "    }\n",
       "</style>\n",
       "<table border=\"1\" class=\"dataframe\">\n",
       "  <thead>\n",
       "    <tr style=\"text-align: right;\">\n",
       "      <th>Region2</th>\n",
       "      <th>Americas</th>\n",
       "      <th>Asia-Pacific</th>\n",
       "      <th>Europe</th>\n",
       "      <th>Middle East and North Africa</th>\n",
       "      <th>Sub-Saharan Africa</th>\n",
       "    </tr>\n",
       "    <tr>\n",
       "      <th>cluster_k2</th>\n",
       "      <th></th>\n",
       "      <th></th>\n",
       "      <th></th>\n",
       "      <th></th>\n",
       "      <th></th>\n",
       "    </tr>\n",
       "  </thead>\n",
       "  <tbody>\n",
       "    <tr>\n",
       "      <th>0</th>\n",
       "      <td>2</td>\n",
       "      <td>9</td>\n",
       "      <td>31</td>\n",
       "      <td>2</td>\n",
       "      <td>0</td>\n",
       "    </tr>\n",
       "    <tr>\n",
       "      <th>1</th>\n",
       "      <td>20</td>\n",
       "      <td>18</td>\n",
       "      <td>14</td>\n",
       "      <td>13</td>\n",
       "      <td>30</td>\n",
       "    </tr>\n",
       "  </tbody>\n",
       "</table>\n",
       "</div>"
      ],
      "text/plain": [
       "Region2     Americas  Asia-Pacific  Europe  Middle East and North Africa  \\\n",
       "cluster_k2                                                                 \n",
       "0                  2             9      31                             2   \n",
       "1                 20            18      14                            13   \n",
       "\n",
       "Region2     Sub-Saharan Africa  \n",
       "cluster_k2                      \n",
       "0                            0  \n",
       "1                           30  "
      ]
     },
     "metadata": {},
     "output_type": "display_data"
    },
    {
     "data": {
      "application/vnd.microsoft.datawrangler.viewer.v0+json": {
       "columns": [
        {
         "name": "cluster_k2",
         "rawType": "int32",
         "type": "integer"
        },
        {
         "name": "Americas",
         "rawType": "float64",
         "type": "float"
        },
        {
         "name": "Asia-Pacific",
         "rawType": "float64",
         "type": "float"
        },
        {
         "name": "Europe",
         "rawType": "float64",
         "type": "float"
        },
        {
         "name": "Middle East and North Africa",
         "rawType": "float64",
         "type": "float"
        },
        {
         "name": "Sub-Saharan Africa",
         "rawType": "float64",
         "type": "float"
        }
       ],
       "ref": "ab67504f-0b08-4ace-a9c8-656dd9414aff",
       "rows": [
        [
         "0",
         "0.045",
         "0.205",
         "0.705",
         "0.045",
         "0.0"
        ],
        [
         "1",
         "0.211",
         "0.189",
         "0.147",
         "0.137",
         "0.316"
        ]
       ],
       "shape": {
        "columns": 5,
        "rows": 2
       }
      },
      "text/html": [
       "<div>\n",
       "<style scoped>\n",
       "    .dataframe tbody tr th:only-of-type {\n",
       "        vertical-align: middle;\n",
       "    }\n",
       "\n",
       "    .dataframe tbody tr th {\n",
       "        vertical-align: top;\n",
       "    }\n",
       "\n",
       "    .dataframe thead th {\n",
       "        text-align: right;\n",
       "    }\n",
       "</style>\n",
       "<table border=\"1\" class=\"dataframe\">\n",
       "  <thead>\n",
       "    <tr style=\"text-align: right;\">\n",
       "      <th>Region2</th>\n",
       "      <th>Americas</th>\n",
       "      <th>Asia-Pacific</th>\n",
       "      <th>Europe</th>\n",
       "      <th>Middle East and North Africa</th>\n",
       "      <th>Sub-Saharan Africa</th>\n",
       "    </tr>\n",
       "    <tr>\n",
       "      <th>cluster_k2</th>\n",
       "      <th></th>\n",
       "      <th></th>\n",
       "      <th></th>\n",
       "      <th></th>\n",
       "      <th></th>\n",
       "    </tr>\n",
       "  </thead>\n",
       "  <tbody>\n",
       "    <tr>\n",
       "      <th>0</th>\n",
       "      <td>0.045</td>\n",
       "      <td>0.205</td>\n",
       "      <td>0.705</td>\n",
       "      <td>0.045</td>\n",
       "      <td>0.000</td>\n",
       "    </tr>\n",
       "    <tr>\n",
       "      <th>1</th>\n",
       "      <td>0.211</td>\n",
       "      <td>0.189</td>\n",
       "      <td>0.147</td>\n",
       "      <td>0.137</td>\n",
       "      <td>0.316</td>\n",
       "    </tr>\n",
       "  </tbody>\n",
       "</table>\n",
       "</div>"
      ],
      "text/plain": [
       "Region2     Americas  Asia-Pacific  Europe  Middle East and North Africa  \\\n",
       "cluster_k2                                                                 \n",
       "0              0.045         0.205   0.705                         0.045   \n",
       "1              0.211         0.189   0.147                         0.137   \n",
       "\n",
       "Region2     Sub-Saharan Africa  \n",
       "cluster_k2                      \n",
       "0                        0.000  \n",
       "1                        0.316  "
      ]
     },
     "metadata": {},
     "output_type": "display_data"
    },
    {
     "name": "stdout",
     "output_type": "stream",
     "text": [
      "\n",
      "3) Statistics: chi2 p-value = 3.169e-10; Cramér's V = 0.6013862805317975\n",
      "4) Conclusion: Region distribution is statistically associated with cluster_k2 (p < 0.05).\n",
      "   Strength (Cramér's V): 0.601 - strong association.\n",
      "\n",
      "5) Interpretation (which regions dominate each cluster):\n",
      " - cluster_k2 = 0 (k = 2): most represented region - Europe (31 countries, 70.5% within the cluster).\n",
      " - cluster_k2 = 1 (k = 2): most represented region - Sub-Saharan Africa (30 countries, 31.6% within the cluster).\n",
      "\n",
      "Limitations:\n",
      "- 'Region2' is strongly tied to geography; a regional pattern may reflect geographic/economic grouping rather than only innovation profiles.\n",
      "- If some contingency cells have small counts, interpret χ² and Cramér's V with caution.\n",
      "\n",
      "\n",
      "================================================================================\n",
      "ANALYSIS 2 - OECD members vs cluster_k2 (k = 2)\n",
      "================================================================================\n",
      "\n",
      "1) What we did:\n",
      "- Goal: find which clusters contain a larger share of OECD member countries.\n",
      "- Method: crosstab (counts), within-cluster percentages, χ² and Cramér's V.\n",
      "\n",
      "2) Results (counts and within-cluster percentages for cluster_k2):\n"
     ]
    },
    {
     "data": {
      "application/vnd.microsoft.datawrangler.viewer.v0+json": {
       "columns": [
        {
         "name": "cluster_k2",
         "rawType": "int32",
         "type": "integer"
        },
        {
         "name": "0",
         "rawType": "int64",
         "type": "integer"
        },
        {
         "name": "1",
         "rawType": "int64",
         "type": "integer"
        }
       ],
       "ref": "fbf1cf4b-0644-4f65-9c96-c0e8870ed467",
       "rows": [
        [
         "0",
         "10",
         "34"
        ],
        [
         "1",
         "91",
         "4"
        ]
       ],
       "shape": {
        "columns": 2,
        "rows": 2
       }
      },
      "text/html": [
       "<div>\n",
       "<style scoped>\n",
       "    .dataframe tbody tr th:only-of-type {\n",
       "        vertical-align: middle;\n",
       "    }\n",
       "\n",
       "    .dataframe tbody tr th {\n",
       "        vertical-align: top;\n",
       "    }\n",
       "\n",
       "    .dataframe thead th {\n",
       "        text-align: right;\n",
       "    }\n",
       "</style>\n",
       "<table border=\"1\" class=\"dataframe\">\n",
       "  <thead>\n",
       "    <tr style=\"text-align: right;\">\n",
       "      <th>OECD members</th>\n",
       "      <th>0</th>\n",
       "      <th>1</th>\n",
       "    </tr>\n",
       "    <tr>\n",
       "      <th>cluster_k2</th>\n",
       "      <th></th>\n",
       "      <th></th>\n",
       "    </tr>\n",
       "  </thead>\n",
       "  <tbody>\n",
       "    <tr>\n",
       "      <th>0</th>\n",
       "      <td>10</td>\n",
       "      <td>34</td>\n",
       "    </tr>\n",
       "    <tr>\n",
       "      <th>1</th>\n",
       "      <td>91</td>\n",
       "      <td>4</td>\n",
       "    </tr>\n",
       "  </tbody>\n",
       "</table>\n",
       "</div>"
      ],
      "text/plain": [
       "OECD members   0   1\n",
       "cluster_k2          \n",
       "0             10  34\n",
       "1             91   4"
      ]
     },
     "metadata": {},
     "output_type": "display_data"
    },
    {
     "data": {
      "application/vnd.microsoft.datawrangler.viewer.v0+json": {
       "columns": [
        {
         "name": "cluster_k2",
         "rawType": "int32",
         "type": "integer"
        },
        {
         "name": "0",
         "rawType": "float64",
         "type": "float"
        },
        {
         "name": "1",
         "rawType": "float64",
         "type": "float"
        }
       ],
       "ref": "875845fd-3bf1-4e41-8918-044d2467f27c",
       "rows": [
        [
         "0",
         "0.227",
         "0.773"
        ],
        [
         "1",
         "0.958",
         "0.042"
        ]
       ],
       "shape": {
        "columns": 2,
        "rows": 2
       }
      },
      "text/html": [
       "<div>\n",
       "<style scoped>\n",
       "    .dataframe tbody tr th:only-of-type {\n",
       "        vertical-align: middle;\n",
       "    }\n",
       "\n",
       "    .dataframe tbody tr th {\n",
       "        vertical-align: top;\n",
       "    }\n",
       "\n",
       "    .dataframe thead th {\n",
       "        text-align: right;\n",
       "    }\n",
       "</style>\n",
       "<table border=\"1\" class=\"dataframe\">\n",
       "  <thead>\n",
       "    <tr style=\"text-align: right;\">\n",
       "      <th>OECD members</th>\n",
       "      <th>0</th>\n",
       "      <th>1</th>\n",
       "    </tr>\n",
       "    <tr>\n",
       "      <th>cluster_k2</th>\n",
       "      <th></th>\n",
       "      <th></th>\n",
       "    </tr>\n",
       "  </thead>\n",
       "  <tbody>\n",
       "    <tr>\n",
       "      <th>0</th>\n",
       "      <td>0.227</td>\n",
       "      <td>0.773</td>\n",
       "    </tr>\n",
       "    <tr>\n",
       "      <th>1</th>\n",
       "      <td>0.958</td>\n",
       "      <td>0.042</td>\n",
       "    </tr>\n",
       "  </tbody>\n",
       "</table>\n",
       "</div>"
      ],
      "text/plain": [
       "OECD members      0      1\n",
       "cluster_k2                \n",
       "0             0.227  0.773\n",
       "1             0.958  0.042"
      ]
     },
     "metadata": {},
     "output_type": "display_data"
    },
    {
     "name": "stdout",
     "output_type": "stream",
     "text": [
      "\n",
      "3) Statistics: chi2 p-value = 1.565e-18; Cramér's V = 0.7451281265566684\n",
      "4) Conclusion: OECD membership is statistically associated with cluster_k2 (p < 0.05).\n",
      "   Cramér's V = 0.745 (association strength).\n",
      " - cluster_k2 = 0: 34 OECD countries, which is 77.3% within the cluster.\n",
      " - cluster_k2 = 1: 4 OECD countries, which is 4.2% within the cluster.\n",
      "\n",
      "Interpretation: clusters with high OECD share likely correspond to 'high-innovation / developed' groups; this helps label clusters.\n",
      "\n",
      "\n",
      "================================================================================\n",
      "ANALYSIS 3 - Income vs cluster_k2 (k = 2)\n",
      "================================================================================\n",
      "\n",
      "1) What we did:\n",
      "- Goal: inspect how cluster membership relates to country income level (Income).\n",
      "- Method: crosstab, within-cluster percentages, χ², Cramér's V.\n",
      "\n",
      "2) Results (counts and within-cluster percentages for cluster_k2):\n"
     ]
    },
    {
     "data": {
      "application/vnd.microsoft.datawrangler.viewer.v0+json": {
       "columns": [
        {
         "name": "cluster_k2",
         "rawType": "int32",
         "type": "integer"
        },
        {
         "name": "high income",
         "rawType": "int64",
         "type": "integer"
        },
        {
         "name": "low income",
         "rawType": "int64",
         "type": "integer"
        },
        {
         "name": "middle income",
         "rawType": "int64",
         "type": "integer"
        }
       ],
       "ref": "b515c8d6-ba38-4cfc-b05f-3a8b54b25f01",
       "rows": [
        [
         "0",
         "40",
         "0",
         "4"
        ],
        [
         "1",
         "12",
         "15",
         "68"
        ]
       ],
       "shape": {
        "columns": 3,
        "rows": 2
       }
      },
      "text/html": [
       "<div>\n",
       "<style scoped>\n",
       "    .dataframe tbody tr th:only-of-type {\n",
       "        vertical-align: middle;\n",
       "    }\n",
       "\n",
       "    .dataframe tbody tr th {\n",
       "        vertical-align: top;\n",
       "    }\n",
       "\n",
       "    .dataframe thead th {\n",
       "        text-align: right;\n",
       "    }\n",
       "</style>\n",
       "<table border=\"1\" class=\"dataframe\">\n",
       "  <thead>\n",
       "    <tr style=\"text-align: right;\">\n",
       "      <th>Income</th>\n",
       "      <th>high income</th>\n",
       "      <th>low income</th>\n",
       "      <th>middle income</th>\n",
       "    </tr>\n",
       "    <tr>\n",
       "      <th>cluster_k2</th>\n",
       "      <th></th>\n",
       "      <th></th>\n",
       "      <th></th>\n",
       "    </tr>\n",
       "  </thead>\n",
       "  <tbody>\n",
       "    <tr>\n",
       "      <th>0</th>\n",
       "      <td>40</td>\n",
       "      <td>0</td>\n",
       "      <td>4</td>\n",
       "    </tr>\n",
       "    <tr>\n",
       "      <th>1</th>\n",
       "      <td>12</td>\n",
       "      <td>15</td>\n",
       "      <td>68</td>\n",
       "    </tr>\n",
       "  </tbody>\n",
       "</table>\n",
       "</div>"
      ],
      "text/plain": [
       "Income      high income  low income  middle income\n",
       "cluster_k2                                        \n",
       "0                    40           0              4\n",
       "1                    12          15             68"
      ]
     },
     "metadata": {},
     "output_type": "display_data"
    },
    {
     "data": {
      "application/vnd.microsoft.datawrangler.viewer.v0+json": {
       "columns": [
        {
         "name": "cluster_k2",
         "rawType": "int32",
         "type": "integer"
        },
        {
         "name": "high income",
         "rawType": "float64",
         "type": "float"
        },
        {
         "name": "low income",
         "rawType": "float64",
         "type": "float"
        },
        {
         "name": "middle income",
         "rawType": "float64",
         "type": "float"
        }
       ],
       "ref": "23febe44-e694-4ec1-be1e-6fc8460d7209",
       "rows": [
        [
         "0",
         "0.909",
         "0.0",
         "0.091"
        ],
        [
         "1",
         "0.126",
         "0.158",
         "0.716"
        ]
       ],
       "shape": {
        "columns": 3,
        "rows": 2
       }
      },
      "text/html": [
       "<div>\n",
       "<style scoped>\n",
       "    .dataframe tbody tr th:only-of-type {\n",
       "        vertical-align: middle;\n",
       "    }\n",
       "\n",
       "    .dataframe tbody tr th {\n",
       "        vertical-align: top;\n",
       "    }\n",
       "\n",
       "    .dataframe thead th {\n",
       "        text-align: right;\n",
       "    }\n",
       "</style>\n",
       "<table border=\"1\" class=\"dataframe\">\n",
       "  <thead>\n",
       "    <tr style=\"text-align: right;\">\n",
       "      <th>Income</th>\n",
       "      <th>high income</th>\n",
       "      <th>low income</th>\n",
       "      <th>middle income</th>\n",
       "    </tr>\n",
       "    <tr>\n",
       "      <th>cluster_k2</th>\n",
       "      <th></th>\n",
       "      <th></th>\n",
       "      <th></th>\n",
       "    </tr>\n",
       "  </thead>\n",
       "  <tbody>\n",
       "    <tr>\n",
       "      <th>0</th>\n",
       "      <td>0.909</td>\n",
       "      <td>0.000</td>\n",
       "      <td>0.091</td>\n",
       "    </tr>\n",
       "    <tr>\n",
       "      <th>1</th>\n",
       "      <td>0.126</td>\n",
       "      <td>0.158</td>\n",
       "      <td>0.716</td>\n",
       "    </tr>\n",
       "  </tbody>\n",
       "</table>\n",
       "</div>"
      ],
      "text/plain": [
       "Income      high income  low income  middle income\n",
       "cluster_k2                                        \n",
       "0                 0.909       0.000          0.091\n",
       "1                 0.126       0.158          0.716"
      ]
     },
     "metadata": {},
     "output_type": "display_data"
    },
    {
     "name": "stdout",
     "output_type": "stream",
     "text": [
      "\n",
      "3) Statistics: chi2 p-value = 7.47e-18; Cramér's V = 0.7532722818324231\n",
      "4) Conclusion: Income level is statistically associated with cluster_k2 (p < 0.05).\n",
      "\n",
      "5) Interpretation (most represented income levels in clusters):\n",
      " - cluster_k2 = 0: most represented income level - high income (40 countries, 90.9% within the cluster).\n",
      " - cluster_k2 = 1: most represented income level - middle income (68 countries, 71.6% within the cluster).\n",
      "\n",
      "Note: Income correlates with OECD membership and region; this is expected and helps profile clusters.\n",
      "\n",
      "\n",
      "================================================================================\n",
      "ANALYSIS 4 - European Union vs cluster_k2 (k = 2)\n",
      "================================================================================\n",
      "\n",
      "1) What we did:\n",
      "- Goal: check whether cluster structure overlaps with EU membership.\n",
      "- Method: counts, within-cluster percentages, χ² and Cramér's V.\n",
      "\n",
      "2) Results (counts and within-cluster percentages for cluster_k2):\n"
     ]
    },
    {
     "data": {
      "application/vnd.microsoft.datawrangler.viewer.v0+json": {
       "columns": [
        {
         "name": "cluster_k2",
         "rawType": "int32",
         "type": "integer"
        },
        {
         "name": "0",
         "rawType": "int64",
         "type": "integer"
        },
        {
         "name": "1",
         "rawType": "int64",
         "type": "integer"
        }
       ],
       "ref": "3fcb2913-0ec4-4c2a-84ff-75da74ae07c5",
       "rows": [
        [
         "0",
         "19",
         "25"
        ],
        [
         "1",
         "93",
         "2"
        ]
       ],
       "shape": {
        "columns": 2,
        "rows": 2
       }
      },
      "text/html": [
       "<div>\n",
       "<style scoped>\n",
       "    .dataframe tbody tr th:only-of-type {\n",
       "        vertical-align: middle;\n",
       "    }\n",
       "\n",
       "    .dataframe tbody tr th {\n",
       "        vertical-align: top;\n",
       "    }\n",
       "\n",
       "    .dataframe thead th {\n",
       "        text-align: right;\n",
       "    }\n",
       "</style>\n",
       "<table border=\"1\" class=\"dataframe\">\n",
       "  <thead>\n",
       "    <tr style=\"text-align: right;\">\n",
       "      <th>European Union</th>\n",
       "      <th>0</th>\n",
       "      <th>1</th>\n",
       "    </tr>\n",
       "    <tr>\n",
       "      <th>cluster_k2</th>\n",
       "      <th></th>\n",
       "      <th></th>\n",
       "    </tr>\n",
       "  </thead>\n",
       "  <tbody>\n",
       "    <tr>\n",
       "      <th>0</th>\n",
       "      <td>19</td>\n",
       "      <td>25</td>\n",
       "    </tr>\n",
       "    <tr>\n",
       "      <th>1</th>\n",
       "      <td>93</td>\n",
       "      <td>2</td>\n",
       "    </tr>\n",
       "  </tbody>\n",
       "</table>\n",
       "</div>"
      ],
      "text/plain": [
       "European Union   0   1\n",
       "cluster_k2            \n",
       "0               19  25\n",
       "1               93   2"
      ]
     },
     "metadata": {},
     "output_type": "display_data"
    },
    {
     "data": {
      "application/vnd.microsoft.datawrangler.viewer.v0+json": {
       "columns": [
        {
         "name": "cluster_k2",
         "rawType": "int32",
         "type": "integer"
        },
        {
         "name": "0",
         "rawType": "float64",
         "type": "float"
        },
        {
         "name": "1",
         "rawType": "float64",
         "type": "float"
        }
       ],
       "ref": "2a247d2d-50bc-4a57-8e45-141079efd729",
       "rows": [
        [
         "0",
         "0.432",
         "0.568"
        ],
        [
         "1",
         "0.979",
         "0.021"
        ]
       ],
       "shape": {
        "columns": 2,
        "rows": 2
       }
      },
      "text/html": [
       "<div>\n",
       "<style scoped>\n",
       "    .dataframe tbody tr th:only-of-type {\n",
       "        vertical-align: middle;\n",
       "    }\n",
       "\n",
       "    .dataframe tbody tr th {\n",
       "        vertical-align: top;\n",
       "    }\n",
       "\n",
       "    .dataframe thead th {\n",
       "        text-align: right;\n",
       "    }\n",
       "</style>\n",
       "<table border=\"1\" class=\"dataframe\">\n",
       "  <thead>\n",
       "    <tr style=\"text-align: right;\">\n",
       "      <th>European Union</th>\n",
       "      <th>0</th>\n",
       "      <th>1</th>\n",
       "    </tr>\n",
       "    <tr>\n",
       "      <th>cluster_k2</th>\n",
       "      <th></th>\n",
       "      <th></th>\n",
       "    </tr>\n",
       "  </thead>\n",
       "  <tbody>\n",
       "    <tr>\n",
       "      <th>0</th>\n",
       "      <td>0.432</td>\n",
       "      <td>0.568</td>\n",
       "    </tr>\n",
       "    <tr>\n",
       "      <th>1</th>\n",
       "      <td>0.979</td>\n",
       "      <td>0.021</td>\n",
       "    </tr>\n",
       "  </tbody>\n",
       "</table>\n",
       "</div>"
      ],
      "text/plain": [
       "European Union      0      1\n",
       "cluster_k2                  \n",
       "0               0.432  0.568\n",
       "1               0.979  0.021"
      ]
     },
     "metadata": {},
     "output_type": "display_data"
    },
    {
     "name": "stdout",
     "output_type": "stream",
     "text": [
      "\n",
      "3) Statistics: chi2 p-value = 1.931e-13; Cramér's V = 0.6237127100282376\n",
      "4) Conclusion: EU membership is statistically associated with cluster_k2 (p < 0.05).\n",
      "\n",
      "5) Insight:\n",
      " - cluster_k2 = 0: 25 EU countries, 56.8% within the cluster.\n",
      " - cluster_k2 = 1: 2 EU countries, 2.1% within the cluster.\n",
      "\n",
      "Note: EU overlaps strongly with region 'Europe' and OECD, so the effect may be partially driven by regional structure.\n",
      "\n",
      "\n",
      "================================================================================\n",
      "COMPOSITION: LISTS OF COUNTRIES BY CLUSTER (cluster_k2: k = 2)\n",
      "================================================================================\n",
      "\n",
      "\n",
      "cluster_k2 = 0 (k = 2), N = 44:\n",
      "Czechia, Hong Kong SAR, China, Korea, Rep., Russian Federation, Slovak Republic, Turkiye, Israel, United Arab Emirates, Austria, Belgium, Croatia, Cyprus, Denmark, Estonia, Finland, France, Germany, Greece, Hungary, Iceland, Ireland, Italy, Latvia, Lithuania, Luxembourg, Malta, Netherlands, Norway, Poland, Portugal, Slovenia, Spain, Sweden, Switzerland, United Kingdom, Australia, China, Japan, Malaysia, New Zealand, Singapore, Thailand, Canada, United States\n",
      "\n",
      "cluster_k2 = 1 (k = 2), N = 95:\n",
      "Cote d'Ivoire, Egypt, Arab Rep., Iran, Islamic Rep., Lao PDR, Myanmar, Puerto Rico, Yemen, Rep., Angola, Benin, Botswana, Burkina Faso, Burundi, Cabo Verde, Cameroon, Ethiopia, Ghana, Guinea, Kenya, Madagascar, Malawi, Mali, Mauritania, Mauritius, Mozambique, Namibia, Niger, Nigeria, Rwanda, Senegal, Sierra Leone, South Africa, Tanzania, Togo, Uganda, Zambia, Zimbabwe, Algeria, Bahrain, Iraq, Jordan, Kuwait, Lebanon, Morocco, Oman, Qatar, Saudi Arabia, Tunisia, Albania, Armenia, Azerbaijan, Belarus, Bosnia and Herzegovina, Bulgaria, Georgia, Moldova, Montenegro, North Macedonia, Romania, Serbia, Ukraine, Bangladesh, Brunei Darussalam, Cambodia, India, Indonesia, Kazakhstan, Kyrgyz Republic, Mongolia, Nepal, Pakistan, Philippines, Solomon Islands, Sri Lanka, Tajikistan, Uzbekistan, Vietnam, Argentina, Bolivia, Brazil, Chile, Colombia, Costa Rica, Dominican Republic, Ecuador, El Salvador, Guatemala, Honduras, Jamaica, Mexico, Nicaragua, Panama, Paraguay, Peru, Trinidad and Tobago, Uruguay\n",
      "\n",
      "Short cluster descriptions (cluster_k2, k = 2):\n",
      " - cluster_k2 = 0: N=44; dominant region = Europe (count 31); OECD share = 0.773; EU share = 0.568\n",
      " - cluster_k2 = 1: N=95; dominant region = Sub-Saharan Africa (count 30); OECD share = 0.042; EU share = 0.021\n",
      "\n",
      "================================================================================\n",
      "NUMERIC ANALYSIS: ANOVA on a key variable (cluster_k2, k = 2)\n",
      "================================================================================\n",
      "\n",
      "Testing differences in 'Gross expenditure on R&D, % GDP_2022' across clusters cluster_k2 (k = 2).\n",
      "ANOVA F = 209.4, p = 7.248e-29\n",
      "Effect size (eta^2) ≈ 0.617\n",
      "Conclusion: there are statistically significant differences across clusters (p < 0.05).\n",
      "   Effect size: large.\n",
      "\n",
      "Tukey HSD (pairwise) - table:\n",
      " Multiple Comparison of Means - Tukey HSD, FWER=0.05 \n",
      "=====================================================\n",
      "group1 group2 meandiff p-adj  lower    upper   reject\n",
      "-----------------------------------------------------\n",
      "     0      1 -32.3545   0.0 -36.7784 -27.9307   True\n",
      "-----------------------------------------------------\n"
     ]
    },
    {
     "data": {
      "text/plain": [
       "<Figure size 600x400 with 0 Axes>"
      ]
     },
     "metadata": {},
     "output_type": "display_data"
    },
    {
     "data": {
      "image/png": "[encoded data removed]",
      "text/plain": [
       "<Figure size 640x480 with 1 Axes>"
      ]
     },
     "metadata": {},
     "output_type": "display_data"
    },
    {
     "name": "stdout",
     "output_type": "stream",
     "text": [
      "\n",
      "================================================================================\n",
      "FINAL SUMMARY\n",
      "================================================================================\n",
      "\n",
      "what we found:\n",
      "- By silhouette score the recommended k was 2 (see above).\n",
      "- cluster_k2 (k = 2) sizes: {1: 95, 0: 44}\n",
      "- From categorical analyses (Region2, OECD members, Income, European Union):\n",
      "  • Region2 vs cluster_k2: chi2 p = 3.169e-10, Cramér's V = 0.6013862805317975\n",
      "  • OECD members vs cluster_k2: chi2 p = 1.565e-18, Cramér's V = 0.7451281265566684\n",
      "  • Income vs cluster_k2: chi2 p = 7.47e-18, Cramér's V = 0.7532722818324231\n",
      "  • European Union vs cluster_k2: chi2 p = 1.931e-13, Cramér's V = 0.6237127100282376\n"
     ]
    }
   ],
   "source": [
    "# your code here\n",
    "\n",
    "# used llm to beautify output\n",
    "\n",
    "import math\n",
    "import pandas as pd\n",
    "import numpy as np\n",
    "import matplotlib.pyplot as plt\n",
    "from sklearn.impute import SimpleImputer\n",
    "from sklearn.preprocessing import StandardScaler\n",
    "from sklearn.cluster import KMeans\n",
    "from sklearn.metrics import silhouette_score, calinski_harabasz_score\n",
    "from scipy.stats import chi2_contingency, f_oneway\n",
    "from statsmodels.stats.multicomp import pairwise_tukeyhsd\n",
    "\n",
    "\n",
    "COLS_TO_EXCLUDE = [\"Euro area\", \"European Union\", \"OECD members\", \"Least developed countries\", \"High income\"]\n",
    "\n",
    "def cramers_v_from_ct(ct):\n",
    "    \"\"\"Compute chi2 and Cramér's V for a contingency table.\"\"\"\n",
    "    try:\n",
    "        chi2, p, dof, expected = chi2_contingency(ct)\n",
    "        n = ct.values.sum()\n",
    "        min_dim = min(ct.shape)\n",
    "        if min_dim <= 1:\n",
    "            return chi2, p, np.nan\n",
    "        cramers_v = math.sqrt(chi2 / (n * (min_dim - 1)))\n",
    "        return chi2, p, cramers_v\n",
    "    except Exception as e:\n",
    "        return np.nan, np.nan, np.nan\n",
    "\n",
    "def describe_cluster_composition(df, cluster_col):\n",
    "    \"\"\"Return small summary dicts for each cluster: size, top region, OECD share.\"\"\"\n",
    "    summary = {}\n",
    "    sizes = df[cluster_col].value_counts().to_dict()\n",
    "    for cl in sorted(df[cluster_col].unique()):\n",
    "        subset = df[df[cluster_col] == cl]\n",
    "        size = sizes.get(cl, 0)\n",
    "        # top region by count\n",
    "        if \"Region2\" in df.columns:\n",
    "            reg_counts = subset[\"Region2\"].value_counts()\n",
    "            top_region = reg_counts.idxmax() if len(reg_counts) > 0 else None\n",
    "            top_region_count = reg_counts.max() if len(reg_counts) > 0 else 0\n",
    "        else:\n",
    "            top_region = None\n",
    "            top_region_count = 0\n",
    "        # OECD share\n",
    "        oecd_share = subset[\"OECD members\"].mean() if \"OECD members\" in df.columns else np.nan\n",
    "        # percent EU if column exists\n",
    "        eu_share = subset[\"European Union\"].mean() if \"European Union\" in df.columns else np.nan\n",
    "        summary[cl] = {\n",
    "            \"size\": int(size),\n",
    "            \"top_region\": top_region,\n",
    "            \"top_region_count\": int(top_region_count),\n",
    "            \"oecd_share\": float(np.round(oecd_share, 3)) if not np.isnan(oecd_share) else np.nan,\n",
    "            \"eu_share\": float(np.round(eu_share, 3)) if not np.isnan(eu_share) else np.nan\n",
    "        }\n",
    "    return summary\n",
    "\n",
    "def print_block(title):\n",
    "    print(\"\\n\" + \"=\"*80)\n",
    "    print(title)\n",
    "    print(\"=\"*80 + \"\\n\")\n",
    "\n",
    "df = pd.read_excel(\"WIPO-GII_2022.xlsx\")\n",
    "\n",
    "display(df.head())\n",
    "\n",
    "num_cols = df.select_dtypes(include=[\"float64\",\"int64\"]).columns.tolist()\n",
    "num_cols = [c for c in num_cols if c not in COLS_TO_EXCLUDE and c != \"Country\"]\n",
    "print(\"Number of numeric columns used for clustering:\", len(num_cols))\n",
    "print(num_cols[:15])\n",
    "\n",
    "X = df[num_cols].copy()\n",
    "\n",
    "imputer = SimpleImputer(strategy=\"mean\")\n",
    "X_imputed = imputer.fit_transform(X)\n",
    "\n",
    "scaler = StandardScaler()\n",
    "X_scaled = scaler.fit_transform(X_imputed)\n",
    "\n",
    "sil_scores = {}\n",
    "ch_scores = {}\n",
    "inertia = {}\n",
    "K_RANGE = range(2,7)\n",
    "for k in K_RANGE:\n",
    "    km = KMeans(n_clusters=k, random_state=42, n_init=20)\n",
    "    labels = km.fit_predict(X_scaled)\n",
    "    sil_scores[k] = silhouette_score(X_scaled, labels)\n",
    "    ch_scores[k] = calinski_harabasz_score(X_scaled, labels)\n",
    "    inertia[k] = km.inertia_\n",
    "\n",
    "print_block(\"EVALUATION OF NUMBER OF CLUSTERS (k = 2..6)\")\n",
    "print(\"Metrics to help choose k:\")\n",
    "print(\"Silhouette scores:\", sil_scores)\n",
    "print(\"Calinski-Harabasz scores:\", ch_scores)\n",
    "\n",
    "# Plot metrics\n",
    "plt.figure(figsize=(10,3))\n",
    "plt.subplot(1,3,1)\n",
    "plt.plot(list(K_RANGE), [inertia[k] for k in K_RANGE], marker='o')\n",
    "plt.title(\"Elbow (inertia)\")\n",
    "plt.xlabel(\"k\"); plt.grid(True)\n",
    "\n",
    "plt.subplot(1,3,2)\n",
    "plt.plot(list(K_RANGE), [sil_scores[k] for k in K_RANGE], marker='o')\n",
    "plt.title(\"Silhouette\")\n",
    "plt.xlabel(\"k\"); plt.grid(True)\n",
    "\n",
    "plt.subplot(1,3,3)\n",
    "plt.plot(list(K_RANGE), [ch_scores[k] for k in K_RANGE], marker='o')\n",
    "plt.title(\"Calinski-Harabasz\")\n",
    "plt.xlabel(\"k\"); plt.grid(True)\n",
    "\n",
    "plt.tight_layout()\n",
    "plt.show()\n",
    "\n",
    "print(\"\\nShort summary from k evaluation:\")\n",
    "best_k = max(sil_scores, key=sil_scores.get)\n",
    "print(f\"- By silhouette score the best k = {best_k}. Silhouette measures how well clusters are separated and how compact they are.\")\n",
    "print(\"- Use CH and elbow as supplementary checks; choose k combining metrics and domain knowledge.\\n\")\n",
    "\n",
    "# ---------- Train KMeans ----------\n",
    "k_best = 2\n",
    "k_alt = 3\n",
    "\n",
    "km2 = KMeans(n_clusters=k_best, random_state=42, n_init=20).fit(X_scaled)\n",
    "km3 = KMeans(n_clusters=k_alt, random_state=42, n_init=20).fit(X_scaled)\n",
    "\n",
    "df[\"cluster_k2\"] = km2.labels_   # <-- cluster_k2: KMeans labels for k = 2\n",
    "df[\"cluster_k3\"] = km3.labels_\n",
    "\n",
    "print_block(\"CLUSTERING RESULTS\")\n",
    "print(\"Cluster sizes (k=2) - i.e. cluster_k2 (k = 2):\")\n",
    "print(df[\"cluster_k2\"].value_counts().sort_index())\n",
    "print(\"\\nCluster sizes (k=3) - i.e. cluster_k3 (k = 3):\")\n",
    "print(df[\"cluster_k3\"].value_counts().sort_index())\n",
    "\n",
    "\n",
    "\n",
    "print_block(\"ANALYSIS 1 - Region2 vs cluster_k2 (k = 2)\")\n",
    "ct_reg_k2 = pd.crosstab(df[\"cluster_k2\"], df[\"Region2\"], dropna=False)\n",
    "ct_reg_k2_pct = ct_reg_k2.div(ct_reg_k2.sum(axis=1), axis=0).round(3)\n",
    "chi2_reg, p_reg, cramerv_reg = cramers_v_from_ct(ct_reg_k2)\n",
    "print(\"1) What we did:\")\n",
    "print(\"- Goal: check how countries from different regions (Region2) are distributed across clusters obtained with k = 2.\")\n",
    "print(\"- Method: contingency table (counts), within-cluster percentages, χ² test, and Cramér's V as a measure of association strength.\")\n",
    "print(\"\\n2) Results (counts and within-cluster percentages for cluster_k2):\")\n",
    "display(ct_reg_k2)\n",
    "display(ct_reg_k2_pct)\n",
    "print(f\"\\n3) Statistics: chi2 p-value = {p_reg:.4g}; Cramér's V = {cramerv_reg if not np.isnan(cramerv_reg) else 'NA'}\")\n",
    "if not np.isnan(p_reg):\n",
    "    if p_reg < 0.05:\n",
    "        print(\"4) Conclusion: Region distribution is statistically associated with cluster_k2 (p < 0.05).\")\n",
    "    else:\n",
    "        print(\"4) Conclusion: No statistically significant association found (p >= 0.05).\")\n",
    "if not np.isnan(cramerv_reg):\n",
    "    if cramerv_reg < 0.1:\n",
    "        strength = \"negligible\"\n",
    "    elif cramerv_reg < 0.3:\n",
    "        strength = \"weak\"\n",
    "    elif cramerv_reg < 0.5:\n",
    "        strength = \"moderate\"\n",
    "    else:\n",
    "        strength = \"strong\"\n",
    "    print(f\"   Strength (Cramér's V): {cramerv_reg:.3f} - {strength} association.\")\n",
    "print(\"\\n5) Interpretation (which regions dominate each cluster):\")\n",
    "for cl in sorted(ct_reg_k2.index):\n",
    "    top_reg = ct_reg_k2.loc[cl].idxmax()\n",
    "    top_cnt = int(ct_reg_k2.loc[cl].max())\n",
    "    pct = float(ct_reg_k2_pct.loc[cl, top_reg])\n",
    "    print(f\" - cluster_k2 = {cl} (k = 2): most represented region - {top_reg} ({top_cnt} countries, {pct*100:.1f}% within the cluster).\")\n",
    "print(\"\\nLimitations:\")\n",
    "print(\"- 'Region2' is strongly tied to geography; a regional pattern may reflect geographic/economic grouping rather than only innovation profiles.\")\n",
    "print(\"- If some contingency cells have small counts, interpret χ² and Cramér's V with caution.\\n\")\n",
    "\n",
    "\n",
    "\n",
    "print_block(\"ANALYSIS 2 - OECD members vs cluster_k2 (k = 2)\")\n",
    "ct_oecd_k2 = pd.crosstab(df[\"cluster_k2\"], df[\"OECD members\"], dropna=False)\n",
    "ct_oecd_k2_pct = ct_oecd_k2.div(ct_oecd_k2.sum(axis=1), axis=0).round(3)\n",
    "chi2_oecd, p_oecd, cramerv_oecd = cramers_v_from_ct(ct_oecd_k2)\n",
    "print(\"1) What we did:\")\n",
    "print(\"- Goal: find which clusters contain a larger share of OECD member countries.\")\n",
    "print(\"- Method: crosstab (counts), within-cluster percentages, χ² and Cramér's V.\")\n",
    "print(\"\\n2) Results (counts and within-cluster percentages for cluster_k2):\")\n",
    "display(ct_oecd_k2)\n",
    "display(ct_oecd_k2_pct)\n",
    "print(f\"\\n3) Statistics: chi2 p-value = {p_oecd:.4g}; Cramér's V = {cramerv_oecd if not np.isnan(cramerv_oecd) else 'NA'}\")\n",
    "if not np.isnan(p_oecd):\n",
    "    if p_oecd < 0.05:\n",
    "        print(\"4) Conclusion: OECD membership is statistically associated with cluster_k2 (p < 0.05).\")\n",
    "    else:\n",
    "        print(\"4) Conclusion: No statistically significant association found (p >= 0.05).\")\n",
    "if not np.isnan(cramerv_oecd):\n",
    "    print(f\"   Cramér's V = {cramerv_oecd:.3f} (association strength).\")\n",
    "\n",
    "\n",
    "for cl in sorted(ct_oecd_k2.index):\n",
    "    if 1 in ct_oecd_k2.columns:\n",
    "        oecd_cnt = int(ct_oecd_k2.loc[cl, 1])\n",
    "        oecd_pct = float(ct_oecd_k2_pct.loc[cl, 1])\n",
    "    else:\n",
    "        oecd_cnt = 0\n",
    "        oecd_pct = 0.0\n",
    "    print(f\" - cluster_k2 = {cl}: {oecd_cnt} OECD countries, which is {oecd_pct*100:.1f}% within the cluster.\")\n",
    "print(\"\\nInterpretation: clusters with high OECD share likely correspond to 'high-innovation / developed' groups; this helps label clusters.\\n\")\n",
    "\n",
    "\n",
    "\n",
    "print_block(\"ANALYSIS 3 - Income vs cluster_k2 (k = 2)\")\n",
    "ct_inc_k2 = pd.crosstab(df[\"cluster_k2\"], df[\"Income\"], dropna=False)\n",
    "ct_inc_k2_pct = ct_inc_k2.div(ct_inc_k2.sum(axis=1), axis=0).round(3)\n",
    "chi2_inc, p_inc, cramerv_inc = cramers_v_from_ct(ct_inc_k2)\n",
    "print(\"1) What we did:\")\n",
    "print(\"- Goal: inspect how cluster membership relates to country income level (Income).\")\n",
    "print(\"- Method: crosstab, within-cluster percentages, χ², Cramér's V.\")\n",
    "print(\"\\n2) Results (counts and within-cluster percentages for cluster_k2):\")\n",
    "display(ct_inc_k2)\n",
    "display(ct_inc_k2_pct)\n",
    "print(f\"\\n3) Statistics: chi2 p-value = {p_inc:.4g}; Cramér's V = {cramerv_inc if not np.isnan(cramerv_inc) else 'NA'}\")\n",
    "if not np.isnan(p_inc):\n",
    "    if p_inc < 0.05:\n",
    "        print(\"4) Conclusion: Income level is statistically associated with cluster_k2 (p < 0.05).\")\n",
    "    else:\n",
    "        print(\"4) Conclusion: No statistically significant association found (p >= 0.05).\")\n",
    "print(\"\\n5) Interpretation (most represented income levels in clusters):\")\n",
    "for cl in sorted(ct_inc_k2.index):\n",
    "    top_income = ct_inc_k2.loc[cl].idxmax()\n",
    "    top_income_cnt = int(ct_inc_k2.loc[cl, top_income])\n",
    "    top_income_pct = float(ct_inc_k2_pct.loc[cl, top_income])\n",
    "    print(f\" - cluster_k2 = {cl}: most represented income level - {top_income} ({top_income_cnt} countries, {top_income_pct*100:.1f}% within the cluster).\")\n",
    "print(\"\\nNote: Income correlates with OECD membership and region; this is expected and helps profile clusters.\\n\")\n",
    "\n",
    "\n",
    "\n",
    "if \"European Union\" in df.columns:\n",
    "    print_block(\"ANALYSIS 4 - European Union vs cluster_k2 (k = 2)\")\n",
    "    ct_eu_k2 = pd.crosstab(df[\"cluster_k2\"], df[\"European Union\"], dropna=False)\n",
    "    ct_eu_k2_pct = ct_eu_k2.div(ct_eu_k2.sum(axis=1), axis=0).round(3)\n",
    "    chi2_eu, p_eu, cramerv_eu = cramers_v_from_ct(ct_eu_k2)\n",
    "    print(\"1) What we did:\")\n",
    "    print(\"- Goal: check whether cluster structure overlaps with EU membership.\")\n",
    "    print(\"- Method: counts, within-cluster percentages, χ² and Cramér's V.\")\n",
    "    print(\"\\n2) Results (counts and within-cluster percentages for cluster_k2):\")\n",
    "    display(ct_eu_k2)\n",
    "    display(ct_eu_k2_pct)\n",
    "    print(f\"\\n3) Statistics: chi2 p-value = {p_eu:.4g}; Cramér's V = {cramerv_eu if not np.isnan(cramerv_eu) else 'NA'}\")\n",
    "    if not np.isnan(p_eu):\n",
    "        if p_eu < 0.05:\n",
    "            print(\"4) Conclusion: EU membership is statistically associated with cluster_k2 (p < 0.05).\")\n",
    "        else:\n",
    "            print(\"4) Conclusion: No statistically significant association found (p >= 0.05).\")\n",
    "    print(\"\\n5) Insight:\")\n",
    "    for cl in sorted(ct_eu_k2.index):\n",
    "        if 1 in ct_eu_k2.columns:\n",
    "            eu_cnt = int(ct_eu_k2.loc[cl, 1])\n",
    "            eu_pct = float(ct_eu_k2_pct.loc[cl, 1])\n",
    "        else:\n",
    "            eu_cnt = 0; eu_pct = 0.0\n",
    "        print(f\" - cluster_k2 = {cl}: {eu_cnt} EU countries, {eu_pct*100:.1f}% within the cluster.\")\n",
    "    print(\"\\nNote: EU overlaps strongly with region 'Europe' and OECD, so the effect may be partially driven by regional structure.\\n\")\n",
    "else:\n",
    "    print_block(\"ANALYSIS 4 - European Union vs cluster_k2 (k = 2)\")\n",
    "    print(\"Column 'European Union' is missing - analysis skipped.\\n\")\n",
    "\n",
    "\n",
    "\n",
    "print_block(\"COMPOSITION: LISTS OF COUNTRIES BY CLUSTER (cluster_k2: k = 2)\")\n",
    "for cl in sorted(df[\"cluster_k2\"].unique()):\n",
    "    countries = df.loc[df[\"cluster_k2\"] == cl, \"Country\"].dropna().tolist()\n",
    "    print(f\"\\ncluster_k2 = {cl} (k = 2), N = {len(countries)}:\")\n",
    "    print(\", \".join(countries))\n",
    "    \n",
    "composition_summary = describe_cluster_composition(df, \"cluster_k2\")\n",
    "print(\"\\nShort cluster descriptions (cluster_k2, k = 2):\")\n",
    "for cl, info in composition_summary.items():\n",
    "    print(f\" - cluster_k2 = {cl}: N={info['size']}; dominant region = {info['top_region']} (count {info['top_region_count']}); \"\n",
    "          f\"OECD share = {info['oecd_share']}; EU share = {info['eu_share']}\")\n",
    "\n",
    "\n",
    "\n",
    "print_block(\"NUMERIC ANALYSIS: ANOVA on a key variable (cluster_k2, k = 2)\")\n",
    "candidate_var = \"Gross expenditure on R&D, % GDP_2022\"\n",
    "if candidate_var not in df.columns:\n",
    "    candidate_var = num_cols[0]\n",
    "    print(f\"Variable 'Gross expenditure on R&D, % GDP_2022' not found. Using '{candidate_var}' as example.\")\n",
    "\n",
    "print(f\"Testing differences in '{candidate_var}' across clusters cluster_k2 (k = 2).\")\n",
    "groups = [df.loc[df[\"cluster_k2\"] == cl, candidate_var].dropna().values for cl in sorted(df[\"cluster_k2\"].unique())]\n",
    "valid_groups = [g for g in groups if len(g) > 0]\n",
    "if len(valid_groups) >= 2:\n",
    "    stat, p_anova = f_oneway(*valid_groups)\n",
    "    \n",
    "\n",
    "    grand = df[candidate_var].dropna().mean()\n",
    "    SSB = sum([len(g) * (g.mean() - grand)**2 for g in valid_groups])\n",
    "    SST = sum([(x - grand)**2 for x in df[candidate_var].dropna().values])\n",
    "    eta2 = SSB / SST if SST > 0 else np.nan\n",
    "    print(f\"ANOVA F = {stat:.4g}, p = {p_anova:.4g}\")\n",
    "    print(f\"Effect size (eta^2) ≈ {eta2:.3f}\")\n",
    "    if p_anova < 0.05:\n",
    "        print(\"Conclusion: there are statistically significant differences across clusters (p < 0.05).\")\n",
    "        if not np.isnan(eta2):\n",
    "            if eta2 < 0.01:\n",
    "                print(\"   Effect size: very small.\")\n",
    "            elif eta2 < 0.06:\n",
    "                print(\"   Effect size: small.\")\n",
    "            elif eta2 < 0.14:\n",
    "                print(\"   Effect size: medium.\")\n",
    "            else:\n",
    "                print(\"   Effect size: large.\")\n",
    "\n",
    "\n",
    "        subset = df[[candidate_var, \"cluster_k2\"]].dropna()\n",
    "        tuk = pairwise_tukeyhsd(endog=subset[candidate_var], groups=subset[\"cluster_k2\"], alpha=0.05)\n",
    "        print(\"\\nTukey HSD (pairwise) - table:\")\n",
    "        print(tuk.summary())\n",
    "\n",
    "    else:\n",
    "        print(\"ANOVA: no significant differences detected (p >= 0.05).\")\n",
    "\n",
    "\n",
    "    plt.figure(figsize=(6,4))\n",
    "    df.boxplot(column=candidate_var, by=\"cluster_k2\")\n",
    "    plt.suptitle(\"\")\n",
    "    plt.title(f\"Distribution of {candidate_var} by cluster_k2 (k = 2)\")\n",
    "    plt.xlabel(\"cluster_k2\")\n",
    "    plt.ylabel(candidate_var)\n",
    "    plt.tight_layout()\n",
    "    plt.show()\n",
    "else:\n",
    "    print(\"Not enough data in groups for ANOVA on the chosen variable.\")\n",
    "\n",
    "\n",
    "print_block(\"FINAL SUMMARY\")\n",
    "print(\"what we found:\")\n",
    "\n",
    "print(f\"- By silhouette score the recommended k was {best_k} (see above).\")\n",
    "print(f\"- cluster_k2 (k = 2) sizes: {df['cluster_k2'].value_counts().to_dict()}\")\n",
    "print(\"- From categorical analyses (Region2, OECD members, Income, European Union):\")\n",
    "print(f\"  • Region2 vs cluster_k2: chi2 p = {p_reg:.4g}, Cramér's V = {cramerv_reg if not np.isnan(cramerv_reg) else 'NA'}\")\n",
    "print(f\"  • OECD members vs cluster_k2: chi2 p = {p_oecd:.4g}, Cramér's V = {cramerv_oecd if not np.isnan(cramerv_oecd) else 'NA'}\")\n",
    "print(f\"  • Income vs cluster_k2: chi2 p = {p_inc:.4g}, Cramér's V = {cramerv_inc if not np.isnan(cramerv_inc) else 'NA'}\")\n",
    "if \"European Union\" in df.columns:\n",
    "    print(f\"  • European Union vs cluster_k2: chi2 p = {p_eu:.4g}, Cramér's V = {cramerv_eu if not np.isnan(cramerv_eu) else 'NA'}\")\n"
   ]
  },
  {
   "cell_type": "markdown",
   "metadata": {},
   "source": [
    "5. Why do you think did this particular cluster structure emerge? Do the obtained results correspond to your initial assumptions, or did they turn out to be unexpected?"
   ]
  },
  {
   "cell_type": "markdown",
   "metadata": {},
   "source": [
    "# Region2 vs cluster_k2\n",
    "\n",
    "The clusters show a noticeable regional structure: countries from the same region are more likely to fall into the same cluster. This means that geography (regional economic/institutional conditions) partially explains the profile differences. \n",
    "\n",
    "\n",
    "Conclusion: region is an important factor, but it may act as a proxy for income/institutions, so a controlled analysis is needed."
   ]
  },
  {
   "attachments": {
    "image.png": {
     "image/png": "[encoded data removed]"
    }
   },
   "cell_type": "markdown",
   "metadata": {},
   "source": [
    "![image.png](attachment:image.png)"
   ]
  },
  {
   "cell_type": "markdown",
   "metadata": {},
   "source": [
    "# OECD members vs cluster_k2\n",
    "\n",
    "One cluster has a substantially higher share of OECD members — this cluster corresponds to \"OECD-like / high-innovation\" countries. Therefore, OECD membership (or the institutional and economic characteristics associated with it) strongly correlates with the cluster profile. \n",
    "\n",
    "Conclusion: the clustering is largely driven by level of development / innovation capacity."
   ]
  },
  {
   "attachments": {
    "image.png": {
     "image/png": "[encoded data removed]"
    }
   },
   "cell_type": "markdown",
   "metadata": {},
   "source": [
    "![image.png](attachment:image.png)"
   ]
  },
  {
   "cell_type": "markdown",
   "metadata": {},
   "source": [
    "# Income vs cluster_k2\n",
    "\n",
    "Income level is noticeably associated with cluster membership: high-income countries are typically grouped in the same cluster. This confirms that economic status is a key driver of the clustering. \n",
    "\n",
    "Conclusion: income is an important explanatory factor and partially overlaps with OECD membership and region."
   ]
  },
  {
   "attachments": {
    "image.png": {
     "image/png": "[encoded data removed]"
    }
   },
   "cell_type": "markdown",
   "metadata": {},
   "source": [
    "![image.png](attachment:image.png)"
   ]
  },
  {
   "cell_type": "markdown",
   "metadata": {},
   "source": [
    "# European Union vs cluster_k2\n",
    "\n",
    "EU membership strongly overlaps with the cluster of developed countries (many EU countries are in the OECD-like cluster). However, the EU effect may be either independent (policies/regulation) or simply reflect overall development and geography. \n",
    "\n",
    "Conclusion: EU membership signals institutional similarity within the cluster, but it is not necessarily an independent cause."
   ]
  },
  {
   "attachments": {
    "image.png": {
     "image/png": "[encoded data removed]"
    }
   },
   "cell_type": "markdown",
   "metadata": {},
   "source": [
    "![image.png](attachment:image.png)"
   ]
  },
  {
   "cell_type": "markdown",
   "metadata": {},
   "source": [
    "Comments on the task and principles of its assessment:\n",
    "\n",
    "- All points of the task must be accompanied by _executed_ code fragments.\n",
    "- All results of the code execution (statistics, graphs, tables) should be commented, conclusions in the written form should be made based on them.\n",
    "- If you have completed this task, you will receive 8 points (excellent grade). To get a higher grade (9 or 10), you need to go beyond the proposed task. For example, use different methods of cluster analysis and compare the results.\n",
    "- This task consists of five parts. The first weighs 25%, the second - 5%, the third - 50%, the fourth - 15%, the fifth - 5%.\n",
    "- The task can be completed individually or in a group of 2 students, the assessment criteria will be the same.\n",
    "- If the task is completed by 2 students, then only one of the students should upload the work to SmartLMS.\n",
    "- The name of the file uploaded to SmartLMS should include the last name(s) of the author(s) of the work.\n",
    "- If you use AI in the work, you must indicate where and how exactly it was used."
   ]
  },
  {
   "cell_type": "markdown",
   "metadata": {},
   "source": [
    "### Please upload the Jupyter Notebook with comments and answers in SmartLMS. The deadline is 7 October 23:55. "
   ]
  }
 ],
 "metadata": {
  "kernelspec": {
   "display_name": "venv",
   "language": "python",
   "name": "python3"
  },
  "language_info": {
   "codemirror_mode": {
    "name": "ipython",
    "version": 3
   },
   "file_extension": ".py",
   "mimetype": "text/x-python",
   "name": "python",
   "nbconvert_exporter": "python",
   "pygments_lexer": "ipython3",
   "version": "3.12.3"
  }
 },
 "nbformat": 4,
 "nbformat_minor": 2
}
