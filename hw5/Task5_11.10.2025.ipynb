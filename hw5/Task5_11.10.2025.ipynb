{
 "cells": [
  {
   "cell_type": "markdown",
   "metadata": {},
   "source": [
    "# Task 5. Linear Regression Analysis"
   ]
  },
  {
   "cell_type": "markdown",
   "metadata": {},
   "source": [
    "Analyze the data on Global AI Job Market & Salary Trends 2025.\n",
    "\n",
    "[Source](https://www.kaggle.com/datasets/bismasajjad/global-ai-job-market-and-salary-trends-2025)\n",
    "\n",
    "The file `ai_job_dataset.csv` contains the following variables:\n",
    "\n",
    "| Variable name | Variable description\n",
    "|:-------------------:|:------------------:|\n",
    "| job_id | Unique identifier for each job posting |\n",
    "| job_title | Standardized job title | \n",
    "| salary_usd | Annual salary in USD| \n",
    "| salary_currency | Original salary currency| \n",
    "| salary_local | Salary in local currency| \n",
    "| experience_level | EN (Entry), MI (Mid), SE (Senior), EX (Executive)| \n",
    "| employment_type |\tFT (Full-time), PT (Part-time), CT (Contract), FL (Freelance)| \n",
    "| company_location | Country where company is located| \t\n",
    "| company_size | S (Small <50), M (Medium 50-250), L (Large >250)| \n",
    "| employee_residence |\tCountry where employee resides|\n",
    "| remote_ratio | 0 (No remote), 50 (Hybrid), 100 (Fully remote)|\n",
    "| required_skills |\tTop 5 required skills (comma-separated)|\n",
    "| education_required |\tMinimum education requirement|\n",
    "| years_experience | Required years of experience|\n",
    "| industry | Industry sector of the company |\n",
    "| posting_date | Date when job was posted |\n",
    "| application_deadline | Application deadline |\n",
    "| job_description_length | Character count of job description |\n",
    "| benefits_score |\tNumerical score of benefits package (1-10) |"
   ]
  },
  {
   "cell_type": "markdown",
   "metadata": {},
   "source": [
    "Please complete the following tasks."
   ]
  },
  {
   "attachments": {},
   "cell_type": "markdown",
   "metadata": {},
   "source": [
    "1. Select a dependent variable which represents the amount of salary. Select at least three categorical and three metric predictors. Make sure that there is no high correlation among the metric predictors and that the categorical predictors do not duplicate each other in terms of their values. If a high correlation is observed among the metric predictors, compute principal components based on them using the principal component analysis (PCA) method."
   ]
  },
  {
   "cell_type": "code",
   "execution_count": null,
   "metadata": {},
   "outputs": [],
   "source": []
  },
  {
   "cell_type": "code",
   "execution_count": 13,
   "metadata": {},
   "outputs": [
    {
     "data": {
      "application/vnd.microsoft.datawrangler.viewer.v0+json": {
       "columns": [
        {
         "name": "job_id",
         "rawType": "object",
         "type": "string"
        },
        {
         "name": "job_title",
         "rawType": "object",
         "type": "string"
        },
        {
         "name": "salary_usd",
         "rawType": "int64",
         "type": "integer"
        },
        {
         "name": "salary_currency",
         "rawType": "object",
         "type": "string"
        },
        {
         "name": "experience_level",
         "rawType": "object",
         "type": "string"
        },
        {
         "name": "employment_type",
         "rawType": "object",
         "type": "string"
        },
        {
         "name": "company_location",
         "rawType": "object",
         "type": "string"
        },
        {
         "name": "company_size",
         "rawType": "object",
         "type": "string"
        },
        {
         "name": "employee_residence",
         "rawType": "object",
         "type": "string"
        },
        {
         "name": "remote_ratio",
         "rawType": "int64",
         "type": "integer"
        },
        {
         "name": "required_skills",
         "rawType": "object",
         "type": "string"
        },
        {
         "name": "education_required",
         "rawType": "object",
         "type": "string"
        },
        {
         "name": "years_experience",
         "rawType": "int64",
         "type": "integer"
        },
        {
         "name": "industry",
         "rawType": "object",
         "type": "string"
        },
        {
         "name": "posting_date",
         "rawType": "object",
         "type": "string"
        },
        {
         "name": "application_deadline",
         "rawType": "object",
         "type": "string"
        },
        {
         "name": "job_description_length",
         "rawType": "int64",
         "type": "integer"
        },
        {
         "name": "benefits_score",
         "rawType": "float64",
         "type": "float"
        },
        {
         "name": "company_name",
         "rawType": "object",
         "type": "string"
        }
       ],
       "ref": "e4406146-6b8b-456a-b363-6bfff74efd79",
       "rows": [
        [
         "AI00001",
         "AI Research Scientist",
         "90376",
         "USD",
         "SE",
         "CT",
         "China",
         "M",
         "China",
         "50",
         "Tableau, PyTorch, Kubernetes, Linux, NLP",
         "Bachelor",
         "9",
         "Automotive",
         "2024-10-18",
         "2024-11-07",
         "1076",
         "5.9",
         "Smart Analytics"
        ],
        [
         "AI00002",
         "AI Software Engineer",
         "61895",
         "USD",
         "EN",
         "CT",
         "Canada",
         "M",
         "Ireland",
         "100",
         "Deep Learning, AWS, Mathematics, Python, Docker",
         "Master",
         "1",
         "Media",
         "2024-11-20",
         "2025-01-11",
         "1268",
         "5.2",
         "TechCorp Inc"
        ],
        [
         "AI00003",
         "AI Specialist",
         "152626",
         "USD",
         "MI",
         "FL",
         "Switzerland",
         "L",
         "South Korea",
         "0",
         "Kubernetes, Deep Learning, Java, Hadoop, NLP",
         "Associate",
         "2",
         "Education",
         "2025-03-18",
         "2025-04-07",
         "1974",
         "9.4",
         "Autonomous Tech"
        ],
        [
         "AI00004",
         "NLP Engineer",
         "80215",
         "USD",
         "SE",
         "FL",
         "India",
         "M",
         "India",
         "50",
         "Scala, SQL, Linux, Python",
         "PhD",
         "7",
         "Consulting",
         "2024-12-23",
         "2025-02-24",
         "1345",
         "8.6",
         "Future Systems"
        ],
        [
         "AI00005",
         "AI Consultant",
         "54624",
         "EUR",
         "EN",
         "PT",
         "France",
         "S",
         "Singapore",
         "100",
         "MLOps, Java, Tableau, Python",
         "Master",
         "0",
         "Media",
         "2025-04-15",
         "2025-06-23",
         "1989",
         "6.6",
         "Advanced Robotics"
        ]
       ],
       "shape": {
        "columns": 18,
        "rows": 5
       }
      },
      "text/html": [
       "<div>\n",
       "<style scoped>\n",
       "    .dataframe tbody tr th:only-of-type {\n",
       "        vertical-align: middle;\n",
       "    }\n",
       "\n",
       "    .dataframe tbody tr th {\n",
       "        vertical-align: top;\n",
       "    }\n",
       "\n",
       "    .dataframe thead th {\n",
       "        text-align: right;\n",
       "    }\n",
       "</style>\n",
       "<table border=\"1\" class=\"dataframe\">\n",
       "  <thead>\n",
       "    <tr style=\"text-align: right;\">\n",
       "      <th></th>\n",
       "      <th>job_title</th>\n",
       "      <th>salary_usd</th>\n",
       "      <th>salary_currency</th>\n",
       "      <th>experience_level</th>\n",
       "      <th>employment_type</th>\n",
       "      <th>company_location</th>\n",
       "      <th>company_size</th>\n",
       "      <th>employee_residence</th>\n",
       "      <th>remote_ratio</th>\n",
       "      <th>required_skills</th>\n",
       "      <th>education_required</th>\n",
       "      <th>years_experience</th>\n",
       "      <th>industry</th>\n",
       "      <th>posting_date</th>\n",
       "      <th>application_deadline</th>\n",
       "      <th>job_description_length</th>\n",
       "      <th>benefits_score</th>\n",
       "      <th>company_name</th>\n",
       "    </tr>\n",
       "    <tr>\n",
       "      <th>job_id</th>\n",
       "      <th></th>\n",
       "      <th></th>\n",
       "      <th></th>\n",
       "      <th></th>\n",
       "      <th></th>\n",
       "      <th></th>\n",
       "      <th></th>\n",
       "      <th></th>\n",
       "      <th></th>\n",
       "      <th></th>\n",
       "      <th></th>\n",
       "      <th></th>\n",
       "      <th></th>\n",
       "      <th></th>\n",
       "      <th></th>\n",
       "      <th></th>\n",
       "      <th></th>\n",
       "      <th></th>\n",
       "    </tr>\n",
       "  </thead>\n",
       "  <tbody>\n",
       "    <tr>\n",
       "      <th>AI00001</th>\n",
       "      <td>AI Research Scientist</td>\n",
       "      <td>90376</td>\n",
       "      <td>USD</td>\n",
       "      <td>SE</td>\n",
       "      <td>CT</td>\n",
       "      <td>China</td>\n",
       "      <td>M</td>\n",
       "      <td>China</td>\n",
       "      <td>50</td>\n",
       "      <td>Tableau, PyTorch, Kubernetes, Linux, NLP</td>\n",
       "      <td>Bachelor</td>\n",
       "      <td>9</td>\n",
       "      <td>Automotive</td>\n",
       "      <td>2024-10-18</td>\n",
       "      <td>2024-11-07</td>\n",
       "      <td>1076</td>\n",
       "      <td>5.9</td>\n",
       "      <td>Smart Analytics</td>\n",
       "    </tr>\n",
       "    <tr>\n",
       "      <th>AI00002</th>\n",
       "      <td>AI Software Engineer</td>\n",
       "      <td>61895</td>\n",
       "      <td>USD</td>\n",
       "      <td>EN</td>\n",
       "      <td>CT</td>\n",
       "      <td>Canada</td>\n",
       "      <td>M</td>\n",
       "      <td>Ireland</td>\n",
       "      <td>100</td>\n",
       "      <td>Deep Learning, AWS, Mathematics, Python, Docker</td>\n",
       "      <td>Master</td>\n",
       "      <td>1</td>\n",
       "      <td>Media</td>\n",
       "      <td>2024-11-20</td>\n",
       "      <td>2025-01-11</td>\n",
       "      <td>1268</td>\n",
       "      <td>5.2</td>\n",
       "      <td>TechCorp Inc</td>\n",
       "    </tr>\n",
       "    <tr>\n",
       "      <th>AI00003</th>\n",
       "      <td>AI Specialist</td>\n",
       "      <td>152626</td>\n",
       "      <td>USD</td>\n",
       "      <td>MI</td>\n",
       "      <td>FL</td>\n",
       "      <td>Switzerland</td>\n",
       "      <td>L</td>\n",
       "      <td>South Korea</td>\n",
       "      <td>0</td>\n",
       "      <td>Kubernetes, Deep Learning, Java, Hadoop, NLP</td>\n",
       "      <td>Associate</td>\n",
       "      <td>2</td>\n",
       "      <td>Education</td>\n",
       "      <td>2025-03-18</td>\n",
       "      <td>2025-04-07</td>\n",
       "      <td>1974</td>\n",
       "      <td>9.4</td>\n",
       "      <td>Autonomous Tech</td>\n",
       "    </tr>\n",
       "    <tr>\n",
       "      <th>AI00004</th>\n",
       "      <td>NLP Engineer</td>\n",
       "      <td>80215</td>\n",
       "      <td>USD</td>\n",
       "      <td>SE</td>\n",
       "      <td>FL</td>\n",
       "      <td>India</td>\n",
       "      <td>M</td>\n",
       "      <td>India</td>\n",
       "      <td>50</td>\n",
       "      <td>Scala, SQL, Linux, Python</td>\n",
       "      <td>PhD</td>\n",
       "      <td>7</td>\n",
       "      <td>Consulting</td>\n",
       "      <td>2024-12-23</td>\n",
       "      <td>2025-02-24</td>\n",
       "      <td>1345</td>\n",
       "      <td>8.6</td>\n",
       "      <td>Future Systems</td>\n",
       "    </tr>\n",
       "    <tr>\n",
       "      <th>AI00005</th>\n",
       "      <td>AI Consultant</td>\n",
       "      <td>54624</td>\n",
       "      <td>EUR</td>\n",
       "      <td>EN</td>\n",
       "      <td>PT</td>\n",
       "      <td>France</td>\n",
       "      <td>S</td>\n",
       "      <td>Singapore</td>\n",
       "      <td>100</td>\n",
       "      <td>MLOps, Java, Tableau, Python</td>\n",
       "      <td>Master</td>\n",
       "      <td>0</td>\n",
       "      <td>Media</td>\n",
       "      <td>2025-04-15</td>\n",
       "      <td>2025-06-23</td>\n",
       "      <td>1989</td>\n",
       "      <td>6.6</td>\n",
       "      <td>Advanced Robotics</td>\n",
       "    </tr>\n",
       "  </tbody>\n",
       "</table>\n",
       "</div>"
      ],
      "text/plain": [
       "                     job_title  salary_usd salary_currency experience_level  \\\n",
       "job_id                                                                        \n",
       "AI00001  AI Research Scientist       90376             USD               SE   \n",
       "AI00002   AI Software Engineer       61895             USD               EN   \n",
       "AI00003          AI Specialist      152626             USD               MI   \n",
       "AI00004           NLP Engineer       80215             USD               SE   \n",
       "AI00005          AI Consultant       54624             EUR               EN   \n",
       "\n",
       "        employment_type company_location company_size employee_residence  \\\n",
       "job_id                                                                     \n",
       "AI00001              CT            China            M              China   \n",
       "AI00002              CT           Canada            M            Ireland   \n",
       "AI00003              FL      Switzerland            L        South Korea   \n",
       "AI00004              FL            India            M              India   \n",
       "AI00005              PT           France            S          Singapore   \n",
       "\n",
       "         remote_ratio                                  required_skills  \\\n",
       "job_id                                                                   \n",
       "AI00001            50         Tableau, PyTorch, Kubernetes, Linux, NLP   \n",
       "AI00002           100  Deep Learning, AWS, Mathematics, Python, Docker   \n",
       "AI00003             0     Kubernetes, Deep Learning, Java, Hadoop, NLP   \n",
       "AI00004            50                        Scala, SQL, Linux, Python   \n",
       "AI00005           100                     MLOps, Java, Tableau, Python   \n",
       "\n",
       "        education_required  years_experience    industry posting_date  \\\n",
       "job_id                                                                  \n",
       "AI00001           Bachelor                 9  Automotive   2024-10-18   \n",
       "AI00002             Master                 1       Media   2024-11-20   \n",
       "AI00003          Associate                 2   Education   2025-03-18   \n",
       "AI00004                PhD                 7  Consulting   2024-12-23   \n",
       "AI00005             Master                 0       Media   2025-04-15   \n",
       "\n",
       "        application_deadline  job_description_length  benefits_score  \\\n",
       "job_id                                                                 \n",
       "AI00001           2024-11-07                    1076             5.9   \n",
       "AI00002           2025-01-11                    1268             5.2   \n",
       "AI00003           2025-04-07                    1974             9.4   \n",
       "AI00004           2025-02-24                    1345             8.6   \n",
       "AI00005           2025-06-23                    1989             6.6   \n",
       "\n",
       "              company_name  \n",
       "job_id                      \n",
       "AI00001    Smart Analytics  \n",
       "AI00002       TechCorp Inc  \n",
       "AI00003    Autonomous Tech  \n",
       "AI00004     Future Systems  \n",
       "AI00005  Advanced Robotics  "
      ]
     },
     "execution_count": 13,
     "metadata": {},
     "output_type": "execute_result"
    }
   ],
   "source": [
    "# your code here\n",
    "\n",
    "import pandas as pd\n",
    "import seaborn as sns\n",
    "import matplotlib.pyplot as plt\n",
    "from scipy import stats \n",
    "import numpy as np\n",
    "from statsmodels.stats.outliers_influence import variance_inflation_factor as vif\n",
    "import warnings\n",
    "warnings.filterwarnings(\"ignore\")\n",
    "\n",
    "\n",
    "df = pd.read_csv('ai_job_dataset.csv', index_col=0)\n",
    "df.head()"
   ]
  },
  {
   "cell_type": "code",
   "execution_count": 14,
   "metadata": {},
   "outputs": [
    {
     "data": {
      "application/vnd.microsoft.datawrangler.viewer.v0+json": {
       "columns": [
        {
         "name": "index",
         "rawType": "object",
         "type": "string"
        },
        {
         "name": "salary_usd",
         "rawType": "float64",
         "type": "float"
        }
       ],
       "ref": "2d0b76aa-e053-4837-a9cb-29ef14f75f54",
       "rows": [
        [
         "count",
         "15000.0"
        ],
        [
         "mean",
         "115348.96513333333"
        ],
        [
         "std",
         "60260.940438248086"
        ],
        [
         "min",
         "32519.0"
        ],
        [
         "25%",
         "70179.75"
        ],
        [
         "50%",
         "99705.0"
        ],
        [
         "75%",
         "146408.5"
        ],
        [
         "max",
         "399095.0"
        ]
       ],
       "shape": {
        "columns": 1,
        "rows": 8
       }
      },
      "text/plain": [
       "count     15000.000000\n",
       "mean     115348.965133\n",
       "std       60260.940438\n",
       "min       32519.000000\n",
       "25%       70179.750000\n",
       "50%       99705.000000\n",
       "75%      146408.500000\n",
       "max      399095.000000\n",
       "Name: salary_usd, dtype: float64"
      ]
     },
     "execution_count": 14,
     "metadata": {},
     "output_type": "execute_result"
    }
   ],
   "source": [
    "# dependent variable which represents the amount of salary - salary_usd\n",
    "\n",
    "# so we start our analysis with it's exploration.\n",
    "\n",
    "df['salary_usd'].describe()\n"
   ]
  },
  {
   "cell_type": "code",
   "execution_count": 15,
   "metadata": {},
   "outputs": [
    {
     "data": {
      "text/plain": [
       "<Axes: xlabel='salary_usd', ylabel='Density'>"
      ]
     },
     "execution_count": 15,
     "metadata": {},
     "output_type": "execute_result"
    },
    {
     "data": {
      "image/png": "[encoded data removed]",
      "text/plain": [
       "<Figure size 640x480 with 1 Axes>"
      ]
     },
     "metadata": {},
     "output_type": "display_data"
    }
   ],
   "source": [
    "sns.distplot(df.salary_usd, fit=stats.norm) "
   ]
  },
  {
   "cell_type": "code",
   "execution_count": 16,
   "metadata": {},
   "outputs": [
    {
     "name": "stdout",
     "output_type": "stream",
     "text": [
      "Skewness: 1.2528\n",
      "Kurtosis: 1.5692\n",
      "Quartile Deviation: 38114.3750\n",
      "Decile Ratio: 3.7526\n"
     ]
    }
   ],
   "source": [
    "print('Skewness: {:.4f}'.format(df['salary_usd'].skew()))\n",
    "print('Kurtosis: {:.4f}'.format(df['salary_usd'].kurt()))\n",
    "print('Quartile Deviation: {:.4f}'.format((df['salary_usd'].quantile(0.75) - df['salary_usd'].quantile(0.25))/2))\n",
    "print('Decile Ratio: {:.4f}'.format(df['salary_usd'].quantile(0.9)/df['salary_usd'].quantile(0.1)))"
   ]
  },
  {
   "cell_type": "code",
   "execution_count": 17,
   "metadata": {},
   "outputs": [
    {
     "data": {
      "text/plain": [
       "KstestResult(statistic=np.float64(0.106268350383037), pvalue=np.float64(5.844235961233849e-148), statistic_location=np.int64(103942), statistic_sign=np.int8(1))"
      ]
     },
     "execution_count": 17,
     "metadata": {},
     "output_type": "execute_result"
    }
   ],
   "source": [
    "stats.kstest(df.salary_usd, 'norm', args=(df.salary_usd.mean(), df.salary_usd.std()))"
   ]
  },
  {
   "cell_type": "markdown",
   "metadata": {},
   "source": [
    "The dependent variable **salary_usd** deviates from the normal distribution, is positively skewed and leptokurtic. The mean value is 115349, the standard deviation is quite high - 60261. The median is 99705, the quartile deviation is 38114, which also characterizes a rather large spread of the central 50% of values relative to the median. The decile ratio is 3.75."
   ]
  },
  {
   "cell_type": "code",
   "execution_count": 27,
   "metadata": {},
   "outputs": [
    {
     "name": "stdout",
     "output_type": "stream",
     "text": [
      "\n",
      "Correlation matrix (numeric):\n"
     ]
    },
    {
     "data": {
      "application/vnd.microsoft.datawrangler.viewer.v0+json": {
       "columns": [
        {
         "name": "index",
         "rawType": "object",
         "type": "string"
        },
        {
         "name": "salary_usd",
         "rawType": "float64",
         "type": "float"
        },
        {
         "name": "remote_ratio",
         "rawType": "float64",
         "type": "float"
        },
        {
         "name": "years_experience",
         "rawType": "float64",
         "type": "float"
        },
        {
         "name": "job_description_length",
         "rawType": "float64",
         "type": "float"
        },
        {
         "name": "benefits_score",
         "rawType": "float64",
         "type": "float"
        }
       ],
       "ref": "23877b23-e777-427b-a8e5-85c4669769af",
       "rows": [
        [
         "salary_usd",
         "1.0",
         "0.01372682603217221",
         "0.7375559086856496",
         "-0.009092217059826367",
         "0.000985230547735385"
        ],
        [
         "remote_ratio",
         "0.01372682603217221",
         "1.0",
         "0.015320982742574159",
         "0.004474896703628876",
         "0.0031392438351724"
        ],
        [
         "years_experience",
         "0.7375559086856496",
         "0.015320982742574159",
         "1.0",
         "-0.007526152092362541",
         "-0.007274574045270038"
        ],
        [
         "job_description_length",
         "-0.009092217059826367",
         "0.004474896703628876",
         "-0.007526152092362541",
         "1.0",
         "0.006743561785465129"
        ],
        [
         "benefits_score",
         "0.000985230547735385",
         "0.0031392438351724",
         "-0.007274574045270038",
         "0.006743561785465129",
         "1.0"
        ]
       ],
       "shape": {
        "columns": 5,
        "rows": 5
       }
      },
      "text/html": [
       "<div>\n",
       "<style scoped>\n",
       "    .dataframe tbody tr th:only-of-type {\n",
       "        vertical-align: middle;\n",
       "    }\n",
       "\n",
       "    .dataframe tbody tr th {\n",
       "        vertical-align: top;\n",
       "    }\n",
       "\n",
       "    .dataframe thead th {\n",
       "        text-align: right;\n",
       "    }\n",
       "</style>\n",
       "<table border=\"1\" class=\"dataframe\">\n",
       "  <thead>\n",
       "    <tr style=\"text-align: right;\">\n",
       "      <th></th>\n",
       "      <th>salary_usd</th>\n",
       "      <th>remote_ratio</th>\n",
       "      <th>years_experience</th>\n",
       "      <th>job_description_length</th>\n",
       "      <th>benefits_score</th>\n",
       "    </tr>\n",
       "  </thead>\n",
       "  <tbody>\n",
       "    <tr>\n",
       "      <th>salary_usd</th>\n",
       "      <td>1.000000</td>\n",
       "      <td>0.013727</td>\n",
       "      <td>0.737556</td>\n",
       "      <td>-0.009092</td>\n",
       "      <td>0.000985</td>\n",
       "    </tr>\n",
       "    <tr>\n",
       "      <th>remote_ratio</th>\n",
       "      <td>0.013727</td>\n",
       "      <td>1.000000</td>\n",
       "      <td>0.015321</td>\n",
       "      <td>0.004475</td>\n",
       "      <td>0.003139</td>\n",
       "    </tr>\n",
       "    <tr>\n",
       "      <th>years_experience</th>\n",
       "      <td>0.737556</td>\n",
       "      <td>0.015321</td>\n",
       "      <td>1.000000</td>\n",
       "      <td>-0.007526</td>\n",
       "      <td>-0.007275</td>\n",
       "    </tr>\n",
       "    <tr>\n",
       "      <th>job_description_length</th>\n",
       "      <td>-0.009092</td>\n",
       "      <td>0.004475</td>\n",
       "      <td>-0.007526</td>\n",
       "      <td>1.000000</td>\n",
       "      <td>0.006744</td>\n",
       "    </tr>\n",
       "    <tr>\n",
       "      <th>benefits_score</th>\n",
       "      <td>0.000985</td>\n",
       "      <td>0.003139</td>\n",
       "      <td>-0.007275</td>\n",
       "      <td>0.006744</td>\n",
       "      <td>1.000000</td>\n",
       "    </tr>\n",
       "  </tbody>\n",
       "</table>\n",
       "</div>"
      ],
      "text/plain": [
       "                        salary_usd  remote_ratio  years_experience  \\\n",
       "salary_usd                1.000000      0.013727          0.737556   \n",
       "remote_ratio              0.013727      1.000000          0.015321   \n",
       "years_experience          0.737556      0.015321          1.000000   \n",
       "job_description_length   -0.009092      0.004475         -0.007526   \n",
       "benefits_score            0.000985      0.003139         -0.007275   \n",
       "\n",
       "                        job_description_length  benefits_score  \n",
       "salary_usd                           -0.009092        0.000985  \n",
       "remote_ratio                          0.004475        0.003139  \n",
       "years_experience                     -0.007526       -0.007275  \n",
       "job_description_length                1.000000        0.006744  \n",
       "benefits_score                        0.006744        1.000000  "
      ]
     },
     "metadata": {},
     "output_type": "display_data"
    },
    {
     "data": {
      "image/png": "[encoded data removed]",
      "text/plain": [
       "<Figure size 800x600 with 2 Axes>"
      ]
     },
     "metadata": {},
     "output_type": "display_data"
    }
   ],
   "source": [
    "num = df.select_dtypes(include=[np.number])\n",
    "corr = num.corr()\n",
    "print(\"\\nCorrelation matrix (numeric):\")\n",
    "display(corr)\n",
    "plt.figure(figsize=(8,6))\n",
    "sns.heatmap(corr, annot=True, fmt=\".2f\",  center=0, cmap='Blues')\n",
    "plt.title(\"Correlation matrix (numeric variables)\")\n",
    "plt.tight_layout()\n",
    "plt.show()"
   ]
  },
  {
   "cell_type": "code",
   "execution_count": null,
   "metadata": {},
   "outputs": [],
   "source": [
    "# so lets chose these metric variables: years_experience, job_description_length, \n",
    "# benefits_score (almost same corr score as for remote ration, but looks better in current context)\n",
    "\n"
   ]
  },
  {
   "cell_type": "code",
   "execution_count": null,
   "metadata": {},
   "outputs": [
    {
     "name": "stdout",
     "output_type": "stream",
     "text": [
      "\n",
      "Correlation among chosen metric predictors:\n"
     ]
    },
    {
     "ename": "NameError",
     "evalue": "name 'work' is not defined",
     "output_type": "error",
     "traceback": [
      "\u001b[0;31m---------------------------------------------------------------------------\u001b[0m",
      "\u001b[0;31mNameError\u001b[0m                                 Traceback (most recent call last)",
      "Cell \u001b[0;32mIn[30], line 2\u001b[0m\n\u001b[1;32m      1\u001b[0m \u001b[38;5;28mprint\u001b[39m(\u001b[38;5;124m\"\u001b[39m\u001b[38;5;130;01m\\n\u001b[39;00m\u001b[38;5;124mCorrelation among chosen metric predictors:\u001b[39m\u001b[38;5;124m\"\u001b[39m)\n\u001b[0;32m----> 2\u001b[0m display(\u001b[43mwork\u001b[49m[metric_cols]\u001b[38;5;241m.\u001b[39mcorr())\n\u001b[1;32m      3\u001b[0m plt\u001b[38;5;241m.\u001b[39mfigure(figsize\u001b[38;5;241m=\u001b[39m(\u001b[38;5;241m4\u001b[39m,\u001b[38;5;241m3\u001b[39m))\n\u001b[1;32m      4\u001b[0m sns\u001b[38;5;241m.\u001b[39mheatmap(work[metric_cols]\u001b[38;5;241m.\u001b[39mcorr(), annot\u001b[38;5;241m=\u001b[39m\u001b[38;5;28;01mTrue\u001b[39;00m, fmt\u001b[38;5;241m=\u001b[39m\u001b[38;5;124m\"\u001b[39m\u001b[38;5;124m.2f\u001b[39m\u001b[38;5;124m\"\u001b[39m)\n",
      "\u001b[0;31mNameError\u001b[0m: name 'work' is not defined"
     ]
    }
   ],
   "source": []
  },
  {
   "cell_type": "markdown",
   "metadata": {},
   "source": [
    "2. Formulate research hypotheses which will be verified during the data analysis."
   ]
  },
  {
   "cell_type": "code",
   "execution_count": 19,
   "metadata": {},
   "outputs": [],
   "source": [
    "# your code here"
   ]
  },
  {
   "attachments": {},
   "cell_type": "markdown",
   "metadata": {},
   "source": [
    "3. Build a multiple linear regression model using as predictors either the original metric variables or the principal components calculated based on them, along with the categorical predictors. Write down the regression equation. Assess the goodness-of-fit of the model."
   ]
  },
  {
   "cell_type": "code",
   "execution_count": 20,
   "metadata": {},
   "outputs": [],
   "source": [
    "# your code here"
   ]
  },
  {
   "attachments": {},
   "cell_type": "markdown",
   "metadata": {},
   "source": [
    "4. Assess the statistical significance of the regression coefficients. Compare them with each other in terms of the strength of their relationship with the dependent variable. Provide a detailed interpretation of the relationship between each predictor and the dependent variable. This is a very important part of the task, as it shows how each predictor is related to the dependent variable and what change in the dependent variable can be expected when the predictor’s value changes by one unit."
   ]
  },
  {
   "cell_type": "code",
   "execution_count": 21,
   "metadata": {},
   "outputs": [],
   "source": [
    "# your code here"
   ]
  },
  {
   "cell_type": "markdown",
   "metadata": {},
   "source": [
    "5. Do the model diagnostics. Assess the distribution of the residuals. Is there any heteroscedasticity and why? How many outliers and/or influential observations are present in the model?"
   ]
  },
  {
   "cell_type": "code",
   "execution_count": 22,
   "metadata": {},
   "outputs": [],
   "source": [
    "# your code here"
   ]
  },
  {
   "cell_type": "markdown",
   "metadata": {},
   "source": [
    "6. Formulate general conclusions based on the results of the regression analysis. Which of the data analysis results were expected for you, and which were unexpected?"
   ]
  },
  {
   "cell_type": "code",
   "execution_count": 23,
   "metadata": {},
   "outputs": [],
   "source": [
    "# your code here"
   ]
  },
  {
   "cell_type": "markdown",
   "metadata": {},
   "source": [
    "Comments on the task and principles of its assessment:\n",
    "\n",
    "- All points of the task must be accompanied by _executed_ code fragments.\n",
    "- All results of the code execution (statistics, graphs, tables) should be commented, conclusions in the written form should be made based on them.\n",
    "- If you have completed this task, you will receive 8 points (excellent grade). To get a higher grade (9 or 10), you need to go beyond the proposed task. For example, use additional regression methods or create different specifications of the model and compare them.\n",
    "- This task consists of six parts, the weight of each part in the overall assessment is as follows:\n",
    "    1. 15%\n",
    "    2. 5%\n",
    "    3. 15%\n",
    "    4. 40%\n",
    "    5. 20%\n",
    "    6. 5%\n",
    "- The task can be completed individually or in a group of 2 students, the assessment criteria will be the same.\n",
    "- If the task is completed by 2 students, then only one of the students should upload the work to SmartLMS.\n",
    "- The name of the file uploaded to SmartLMS should include the last name(s) of the author(s) of the work.\n",
    "- If you use AI in the work, you must indicate where and how exactly it was used."
   ]
  },
  {
   "cell_type": "markdown",
   "metadata": {},
   "source": [
    "### Please upload the Jupyter Notebook with comments and answers in SmartLMS. The deadline is 16 October 23:55. "
   ]
  }
 ],
 "metadata": {
  "kernelspec": {
   "display_name": "venv",
   "language": "python",
   "name": "python3"
  },
  "language_info": {
   "codemirror_mode": {
    "name": "ipython",
    "version": 3
   },
   "file_extension": ".py",
   "mimetype": "text/x-python",
   "name": "python",
   "nbconvert_exporter": "python",
   "pygments_lexer": "ipython3",
   "version": "3.12.3"
  }
 },
 "nbformat": 4,
 "nbformat_minor": 2
}
